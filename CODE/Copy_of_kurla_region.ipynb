{
 "cells": [
  {
   "cell_type": "code",
   "execution_count": 5,
   "metadata": {
    "_cell_guid": "b1076dfc-b9ad-4769-8c92-a6c4dae69d19",
    "_uuid": "8f2839f25d086af736a60e9eeb907d3b93b6e0e5",
    "execution": {
     "iopub.execute_input": "2021-02-26T09:50:00.465823Z",
     "iopub.status.busy": "2021-02-26T09:50:00.465031Z",
     "iopub.status.idle": "2021-02-26T09:50:11.628534Z",
     "shell.execute_reply": "2021-02-26T09:50:11.627517Z"
    },
    "id": "2RLRSzZe9Amo",
    "papermill": {
     "duration": 11.187656,
     "end_time": "2021-02-26T09:50:11.628802",
     "exception": false,
     "start_time": "2021-02-26T09:50:00.441146",
     "status": "completed"
    },
    "tags": []
   },
   "outputs": [
    {
     "name": "stdout",
     "output_type": "stream",
     "text": [
      "../Dataset/agripada.csv\n",
      "../Dataset/andheri.csv\n",
      "../Dataset/bandra_east.csv\n",
      "../Dataset/bandra_west.csv\n",
      "../Dataset/borivali_west.csv\n",
      "../Dataset/chembur.csv\n",
      "../Dataset/chembur_east.csv\n",
      "../Dataset/colaba.csv\n",
      "../Dataset/cst.csv\n",
      "../Dataset/dadar.csv\n",
      "../Dataset/ghatkopar.csv\n",
      "../Dataset/ghatkopar_east.csv\n",
      "../Dataset/ghatkopar_west.csv\n",
      "../Dataset/goregaon.csv\n",
      "../Dataset/gowandi.csv\n",
      "../Dataset/juhu.csv\n",
      "../Dataset/kandivali_east.csv\n",
      "../Dataset/kandivali_west.csv\n",
      "../Dataset/khar.csv\n",
      "../Dataset/khar_west.csv\n",
      "../Dataset/kurla.csv\n",
      "../Dataset/malad.csv\n",
      "../Dataset/mulund.csv\n",
      "../Dataset/mulund_east.csv\n",
      "../Dataset/mulund_west.csv\n",
      "../Dataset/mumbai_central.csv\n",
      "../Dataset/nagpada.csv\n",
      "../Dataset/parel.csv\n",
      "../Dataset/sewree.csv\n",
      "../Dataset/trombay.csv\n",
      "../Dataset/vikhroli.csv\n",
      "../Dataset/vikhroli_east.csv\n",
      "../Dataset/vile_parle.csv\n",
      "../Dataset/ward_level_collated.csv\n",
      "../Dataset/worli.csv\n"
     ]
    }
   ],
   "source": [
    "import numpy as np # linear algebra\n",
    "import pandas as pd # data processing, CSV file I/O (e.g. pd.read_csv)\n",
    "import sklearn\n",
    "import tensorflow as tf\n",
    "from tensorflow import keras\n",
    "from tensorflow.keras import layers\n",
    "from keras.layers import Dropout\n",
    "from sklearn.utils import shuffle\n",
    "\n",
    "import os\n",
    "for dirname, _, filenames in os.walk('../Dataset/'):\n",
    "    for filename in filenames:\n",
    "        print(os.path.join(dirname, filename))\n",
    "\n"
   ]
  },
  {
   "cell_type": "code",
   "execution_count": 6,
   "metadata": {
    "execution": {
     "iopub.execute_input": "2021-02-26T09:50:11.68739Z",
     "iopub.status.busy": "2021-02-26T09:50:11.685015Z",
     "iopub.status.idle": "2021-02-26T09:50:11.693485Z",
     "shell.execute_reply": "2021-02-26T09:50:11.692617Z"
    },
    "id": "_4qCQqcL9Amt",
    "papermill": {
     "duration": 0.040825,
     "end_time": "2021-02-26T09:50:11.693669",
     "exception": false,
     "start_time": "2021-02-26T09:50:11.652844",
     "status": "completed"
    },
    "tags": []
   },
   "outputs": [],
   "source": [
    "tf.random.set_seed(10)\n",
    "np.random.seed(10)"
   ]
  },
  {
   "cell_type": "code",
   "execution_count": 9,
   "metadata": {
    "execution": {
     "iopub.execute_input": "2021-02-26T09:50:11.766064Z",
     "iopub.status.busy": "2021-02-26T09:50:11.764768Z",
     "iopub.status.idle": "2021-02-26T09:50:11.793415Z",
     "shell.execute_reply": "2021-02-26T09:50:11.794258Z"
    },
    "id": "otuQQ3y59Amt",
    "papermill": {
     "duration": 0.072798,
     "end_time": "2021-02-26T09:50:11.794537",
     "exception": false,
     "start_time": "2021-02-26T09:50:11.721739",
     "status": "completed"
    },
    "tags": []
   },
   "outputs": [],
   "source": [
    "dataFrame = pd.read_csv('../Dataset/kurla.csv')"
   ]
  },
  {
   "cell_type": "code",
   "execution_count": 10,
   "metadata": {
    "colab": {
     "base_uri": "https://localhost:8080/",
     "height": 439
    },
    "execution": {
     "iopub.execute_input": "2021-02-26T09:50:11.856652Z",
     "iopub.status.busy": "2021-02-26T09:50:11.855818Z",
     "iopub.status.idle": "2021-02-26T09:50:11.934844Z",
     "shell.execute_reply": "2021-02-26T09:50:11.933266Z"
    },
    "id": "zqq2BZC-9Amu",
    "outputId": "4472984b-463f-4d21-ad3c-f3c9049dfaab",
    "papermill": {
     "duration": 0.112829,
     "end_time": "2021-02-26T09:50:11.935145",
     "exception": false,
     "start_time": "2021-02-26T09:50:11.822316",
     "status": "completed"
    },
    "tags": []
   },
   "outputs": [
    {
     "data": {
      "text/html": [
       "<div>\n",
       "<style scoped>\n",
       "    .dataframe tbody tr th:only-of-type {\n",
       "        vertical-align: middle;\n",
       "    }\n",
       "\n",
       "    .dataframe tbody tr th {\n",
       "        vertical-align: top;\n",
       "    }\n",
       "\n",
       "    .dataframe thead th {\n",
       "        text-align: right;\n",
       "    }\n",
       "</style>\n",
       "<table border=\"1\" class=\"dataframe\">\n",
       "  <thead>\n",
       "    <tr style=\"text-align: right;\">\n",
       "      <th></th>\n",
       "      <th>LOCALITY</th>\n",
       "      <th>S_D</th>\n",
       "      <th>S_M</th>\n",
       "      <th>MALARIA</th>\n",
       "      <th>DENGUE</th>\n",
       "      <th>CHICKENGUNIA</th>\n",
       "      <th>VIRAL_FEVER</th>\n",
       "      <th>FLU</th>\n",
       "      <th>TUBERCULOSIS</th>\n",
       "      <th>DIARROHEA</th>\n",
       "      <th>...</th>\n",
       "      <th>JAUNDICE</th>\n",
       "      <th>TEMP_C</th>\n",
       "      <th>RAIN_MM</th>\n",
       "      <th>AQI</th>\n",
       "      <th>CHEMBUR_EAST_DIARROHEA</th>\n",
       "      <th>CHEMBUR_EAST_TYPHOID</th>\n",
       "      <th>CHEMBUR_EAST_CHOLERA</th>\n",
       "      <th>CHEMBUR_EAST_JAUNDICE</th>\n",
       "      <th>JUHU_T</th>\n",
       "      <th>VIKHROLI_T</th>\n",
       "    </tr>\n",
       "  </thead>\n",
       "  <tbody>\n",
       "    <tr>\n",
       "      <th>0</th>\n",
       "      <td>KURLA</td>\n",
       "      <td>1</td>\n",
       "      <td>1</td>\n",
       "      <td>0.0</td>\n",
       "      <td>0.0</td>\n",
       "      <td>0.0</td>\n",
       "      <td>0.0</td>\n",
       "      <td>0.0</td>\n",
       "      <td>0.0</td>\n",
       "      <td>0.0</td>\n",
       "      <td>...</td>\n",
       "      <td>1.0</td>\n",
       "      <td>26.09</td>\n",
       "      <td>0.0</td>\n",
       "      <td>159.500000</td>\n",
       "      <td>0.0</td>\n",
       "      <td>0.000000</td>\n",
       "      <td>0.00</td>\n",
       "      <td>0.000000</td>\n",
       "      <td>0.0</td>\n",
       "      <td>0.0</td>\n",
       "    </tr>\n",
       "    <tr>\n",
       "      <th>1</th>\n",
       "      <td>KURLA</td>\n",
       "      <td>2</td>\n",
       "      <td>1</td>\n",
       "      <td>0.0</td>\n",
       "      <td>0.0</td>\n",
       "      <td>0.0</td>\n",
       "      <td>0.0</td>\n",
       "      <td>0.0</td>\n",
       "      <td>0.0</td>\n",
       "      <td>0.0</td>\n",
       "      <td>...</td>\n",
       "      <td>1.0</td>\n",
       "      <td>26.20</td>\n",
       "      <td>0.0</td>\n",
       "      <td>150.566667</td>\n",
       "      <td>0.0</td>\n",
       "      <td>0.000000</td>\n",
       "      <td>0.00</td>\n",
       "      <td>0.000000</td>\n",
       "      <td>0.0</td>\n",
       "      <td>0.0</td>\n",
       "    </tr>\n",
       "    <tr>\n",
       "      <th>2</th>\n",
       "      <td>KURLA</td>\n",
       "      <td>3</td>\n",
       "      <td>1</td>\n",
       "      <td>0.0</td>\n",
       "      <td>0.0</td>\n",
       "      <td>0.0</td>\n",
       "      <td>0.0</td>\n",
       "      <td>0.0</td>\n",
       "      <td>0.0</td>\n",
       "      <td>0.0</td>\n",
       "      <td>...</td>\n",
       "      <td>1.0</td>\n",
       "      <td>26.68</td>\n",
       "      <td>0.0</td>\n",
       "      <td>152.066667</td>\n",
       "      <td>0.0</td>\n",
       "      <td>0.000000</td>\n",
       "      <td>0.00</td>\n",
       "      <td>0.000000</td>\n",
       "      <td>0.0</td>\n",
       "      <td>0.0</td>\n",
       "    </tr>\n",
       "    <tr>\n",
       "      <th>3</th>\n",
       "      <td>KURLA</td>\n",
       "      <td>4</td>\n",
       "      <td>1</td>\n",
       "      <td>0.0</td>\n",
       "      <td>0.0</td>\n",
       "      <td>0.0</td>\n",
       "      <td>0.0</td>\n",
       "      <td>0.0</td>\n",
       "      <td>0.0</td>\n",
       "      <td>0.0</td>\n",
       "      <td>...</td>\n",
       "      <td>1.0</td>\n",
       "      <td>27.84</td>\n",
       "      <td>0.0</td>\n",
       "      <td>124.200000</td>\n",
       "      <td>0.0</td>\n",
       "      <td>0.000000</td>\n",
       "      <td>0.00</td>\n",
       "      <td>0.000000</td>\n",
       "      <td>0.0</td>\n",
       "      <td>0.0</td>\n",
       "    </tr>\n",
       "    <tr>\n",
       "      <th>4</th>\n",
       "      <td>KURLA</td>\n",
       "      <td>5</td>\n",
       "      <td>1</td>\n",
       "      <td>6.0</td>\n",
       "      <td>6.0</td>\n",
       "      <td>1.0</td>\n",
       "      <td>0.0</td>\n",
       "      <td>0.0</td>\n",
       "      <td>0.0</td>\n",
       "      <td>0.0</td>\n",
       "      <td>...</td>\n",
       "      <td>0.0</td>\n",
       "      <td>29.06</td>\n",
       "      <td>0.0</td>\n",
       "      <td>94.230000</td>\n",
       "      <td>0.0</td>\n",
       "      <td>0.000000</td>\n",
       "      <td>0.00</td>\n",
       "      <td>0.000000</td>\n",
       "      <td>0.0</td>\n",
       "      <td>0.0</td>\n",
       "    </tr>\n",
       "    <tr>\n",
       "      <th>...</th>\n",
       "      <td>...</td>\n",
       "      <td>...</td>\n",
       "      <td>...</td>\n",
       "      <td>...</td>\n",
       "      <td>...</td>\n",
       "      <td>...</td>\n",
       "      <td>...</td>\n",
       "      <td>...</td>\n",
       "      <td>...</td>\n",
       "      <td>...</td>\n",
       "      <td>...</td>\n",
       "      <td>...</td>\n",
       "      <td>...</td>\n",
       "      <td>...</td>\n",
       "      <td>...</td>\n",
       "      <td>...</td>\n",
       "      <td>...</td>\n",
       "      <td>...</td>\n",
       "      <td>...</td>\n",
       "      <td>...</td>\n",
       "      <td>...</td>\n",
       "    </tr>\n",
       "    <tr>\n",
       "      <th>360</th>\n",
       "      <td>KURLA</td>\n",
       "      <td>27</td>\n",
       "      <td>12</td>\n",
       "      <td>0.0</td>\n",
       "      <td>0.0</td>\n",
       "      <td>0.0</td>\n",
       "      <td>0.0</td>\n",
       "      <td>0.0</td>\n",
       "      <td>0.0</td>\n",
       "      <td>2.0</td>\n",
       "      <td>...</td>\n",
       "      <td>3.0</td>\n",
       "      <td>28.36</td>\n",
       "      <td>0.0</td>\n",
       "      <td>157.833333</td>\n",
       "      <td>0.5</td>\n",
       "      <td>0.333333</td>\n",
       "      <td>0.25</td>\n",
       "      <td>0.333333</td>\n",
       "      <td>0.0</td>\n",
       "      <td>0.0</td>\n",
       "    </tr>\n",
       "    <tr>\n",
       "      <th>361</th>\n",
       "      <td>KURLA</td>\n",
       "      <td>28</td>\n",
       "      <td>12</td>\n",
       "      <td>0.0</td>\n",
       "      <td>0.0</td>\n",
       "      <td>0.0</td>\n",
       "      <td>0.0</td>\n",
       "      <td>0.0</td>\n",
       "      <td>0.0</td>\n",
       "      <td>2.0</td>\n",
       "      <td>...</td>\n",
       "      <td>3.0</td>\n",
       "      <td>29.33</td>\n",
       "      <td>0.0</td>\n",
       "      <td>136.800000</td>\n",
       "      <td>0.5</td>\n",
       "      <td>0.333333</td>\n",
       "      <td>0.25</td>\n",
       "      <td>0.333333</td>\n",
       "      <td>0.0</td>\n",
       "      <td>0.0</td>\n",
       "    </tr>\n",
       "    <tr>\n",
       "      <th>362</th>\n",
       "      <td>KURLA</td>\n",
       "      <td>29</td>\n",
       "      <td>12</td>\n",
       "      <td>0.0</td>\n",
       "      <td>0.0</td>\n",
       "      <td>0.0</td>\n",
       "      <td>0.0</td>\n",
       "      <td>0.0</td>\n",
       "      <td>0.0</td>\n",
       "      <td>2.0</td>\n",
       "      <td>...</td>\n",
       "      <td>3.0</td>\n",
       "      <td>31.07</td>\n",
       "      <td>0.0</td>\n",
       "      <td>151.700000</td>\n",
       "      <td>0.5</td>\n",
       "      <td>0.333333</td>\n",
       "      <td>0.25</td>\n",
       "      <td>0.333333</td>\n",
       "      <td>0.0</td>\n",
       "      <td>0.0</td>\n",
       "    </tr>\n",
       "    <tr>\n",
       "      <th>363</th>\n",
       "      <td>KURLA</td>\n",
       "      <td>30</td>\n",
       "      <td>12</td>\n",
       "      <td>0.0</td>\n",
       "      <td>0.0</td>\n",
       "      <td>0.0</td>\n",
       "      <td>0.0</td>\n",
       "      <td>0.0</td>\n",
       "      <td>0.0</td>\n",
       "      <td>2.0</td>\n",
       "      <td>...</td>\n",
       "      <td>3.0</td>\n",
       "      <td>30.43</td>\n",
       "      <td>0.0</td>\n",
       "      <td>163.720000</td>\n",
       "      <td>0.5</td>\n",
       "      <td>0.333333</td>\n",
       "      <td>0.25</td>\n",
       "      <td>0.333333</td>\n",
       "      <td>0.0</td>\n",
       "      <td>0.0</td>\n",
       "    </tr>\n",
       "    <tr>\n",
       "      <th>364</th>\n",
       "      <td>KURLA</td>\n",
       "      <td>31</td>\n",
       "      <td>12</td>\n",
       "      <td>0.0</td>\n",
       "      <td>0.0</td>\n",
       "      <td>0.0</td>\n",
       "      <td>0.0</td>\n",
       "      <td>0.0</td>\n",
       "      <td>0.0</td>\n",
       "      <td>2.0</td>\n",
       "      <td>...</td>\n",
       "      <td>3.0</td>\n",
       "      <td>30.60</td>\n",
       "      <td>0.0</td>\n",
       "      <td>162.133333</td>\n",
       "      <td>0.5</td>\n",
       "      <td>0.333333</td>\n",
       "      <td>0.25</td>\n",
       "      <td>0.333333</td>\n",
       "      <td>0.0</td>\n",
       "      <td>0.0</td>\n",
       "    </tr>\n",
       "  </tbody>\n",
       "</table>\n",
       "<p>365 rows × 22 columns</p>\n",
       "</div>"
      ],
      "text/plain": [
       "    LOCALITY  S_D  S_M  MALARIA  DENGUE  CHICKENGUNIA  VIRAL_FEVER  FLU  \\\n",
       "0      KURLA    1    1      0.0     0.0           0.0          0.0  0.0   \n",
       "1      KURLA    2    1      0.0     0.0           0.0          0.0  0.0   \n",
       "2      KURLA    3    1      0.0     0.0           0.0          0.0  0.0   \n",
       "3      KURLA    4    1      0.0     0.0           0.0          0.0  0.0   \n",
       "4      KURLA    5    1      6.0     6.0           1.0          0.0  0.0   \n",
       "..       ...  ...  ...      ...     ...           ...          ...  ...   \n",
       "360    KURLA   27   12      0.0     0.0           0.0          0.0  0.0   \n",
       "361    KURLA   28   12      0.0     0.0           0.0          0.0  0.0   \n",
       "362    KURLA   29   12      0.0     0.0           0.0          0.0  0.0   \n",
       "363    KURLA   30   12      0.0     0.0           0.0          0.0  0.0   \n",
       "364    KURLA   31   12      0.0     0.0           0.0          0.0  0.0   \n",
       "\n",
       "     TUBERCULOSIS  DIARROHEA  ...  JAUNDICE  TEMP_C  RAIN_MM         AQI  \\\n",
       "0             0.0        0.0  ...       1.0   26.09      0.0  159.500000   \n",
       "1             0.0        0.0  ...       1.0   26.20      0.0  150.566667   \n",
       "2             0.0        0.0  ...       1.0   26.68      0.0  152.066667   \n",
       "3             0.0        0.0  ...       1.0   27.84      0.0  124.200000   \n",
       "4             0.0        0.0  ...       0.0   29.06      0.0   94.230000   \n",
       "..            ...        ...  ...       ...     ...      ...         ...   \n",
       "360           0.0        2.0  ...       3.0   28.36      0.0  157.833333   \n",
       "361           0.0        2.0  ...       3.0   29.33      0.0  136.800000   \n",
       "362           0.0        2.0  ...       3.0   31.07      0.0  151.700000   \n",
       "363           0.0        2.0  ...       3.0   30.43      0.0  163.720000   \n",
       "364           0.0        2.0  ...       3.0   30.60      0.0  162.133333   \n",
       "\n",
       "     CHEMBUR_EAST_DIARROHEA  CHEMBUR_EAST_TYPHOID  CHEMBUR_EAST_CHOLERA  \\\n",
       "0                       0.0              0.000000                  0.00   \n",
       "1                       0.0              0.000000                  0.00   \n",
       "2                       0.0              0.000000                  0.00   \n",
       "3                       0.0              0.000000                  0.00   \n",
       "4                       0.0              0.000000                  0.00   \n",
       "..                      ...                   ...                   ...   \n",
       "360                     0.5              0.333333                  0.25   \n",
       "361                     0.5              0.333333                  0.25   \n",
       "362                     0.5              0.333333                  0.25   \n",
       "363                     0.5              0.333333                  0.25   \n",
       "364                     0.5              0.333333                  0.25   \n",
       "\n",
       "     CHEMBUR_EAST_JAUNDICE  JUHU_T  VIKHROLI_T  \n",
       "0                 0.000000     0.0         0.0  \n",
       "1                 0.000000     0.0         0.0  \n",
       "2                 0.000000     0.0         0.0  \n",
       "3                 0.000000     0.0         0.0  \n",
       "4                 0.000000     0.0         0.0  \n",
       "..                     ...     ...         ...  \n",
       "360               0.333333     0.0         0.0  \n",
       "361               0.333333     0.0         0.0  \n",
       "362               0.333333     0.0         0.0  \n",
       "363               0.333333     0.0         0.0  \n",
       "364               0.333333     0.0         0.0  \n",
       "\n",
       "[365 rows x 22 columns]"
      ]
     },
     "execution_count": 10,
     "metadata": {},
     "output_type": "execute_result"
    }
   ],
   "source": [
    "dataFrame"
   ]
  },
  {
   "cell_type": "code",
   "execution_count": 11,
   "metadata": {
    "colab": {
     "base_uri": "https://localhost:8080/",
     "height": 419
    },
    "execution": {
     "iopub.execute_input": "2021-02-26T09:50:12.006942Z",
     "iopub.status.busy": "2021-02-26T09:50:11.996833Z",
     "iopub.status.idle": "2021-02-26T09:50:12.033411Z",
     "shell.execute_reply": "2021-02-26T09:50:12.033884Z"
    },
    "id": "BVATBA5l9Amu",
    "outputId": "f26b84f8-a592-4cf9-ddf4-f673203d54c2",
    "papermill": {
     "duration": 0.069918,
     "end_time": "2021-02-26T09:50:12.03409",
     "exception": false,
     "start_time": "2021-02-26T09:50:11.964172",
     "status": "completed"
    },
    "tags": []
   },
   "outputs": [
    {
     "data": {
      "text/html": [
       "<div>\n",
       "<style scoped>\n",
       "    .dataframe tbody tr th:only-of-type {\n",
       "        vertical-align: middle;\n",
       "    }\n",
       "\n",
       "    .dataframe tbody tr th {\n",
       "        vertical-align: top;\n",
       "    }\n",
       "\n",
       "    .dataframe thead th {\n",
       "        text-align: right;\n",
       "    }\n",
       "</style>\n",
       "<table border=\"1\" class=\"dataframe\">\n",
       "  <thead>\n",
       "    <tr style=\"text-align: right;\">\n",
       "      <th></th>\n",
       "      <th>S_D</th>\n",
       "      <th>S_M</th>\n",
       "      <th>TEMP_C</th>\n",
       "      <th>RAIN_MM</th>\n",
       "      <th>AQI</th>\n",
       "    </tr>\n",
       "  </thead>\n",
       "  <tbody>\n",
       "    <tr>\n",
       "      <th>0</th>\n",
       "      <td>1</td>\n",
       "      <td>1</td>\n",
       "      <td>26.09</td>\n",
       "      <td>0.0</td>\n",
       "      <td>159.500000</td>\n",
       "    </tr>\n",
       "    <tr>\n",
       "      <th>1</th>\n",
       "      <td>2</td>\n",
       "      <td>1</td>\n",
       "      <td>26.20</td>\n",
       "      <td>0.0</td>\n",
       "      <td>150.566667</td>\n",
       "    </tr>\n",
       "    <tr>\n",
       "      <th>2</th>\n",
       "      <td>3</td>\n",
       "      <td>1</td>\n",
       "      <td>26.68</td>\n",
       "      <td>0.0</td>\n",
       "      <td>152.066667</td>\n",
       "    </tr>\n",
       "    <tr>\n",
       "      <th>3</th>\n",
       "      <td>4</td>\n",
       "      <td>1</td>\n",
       "      <td>27.84</td>\n",
       "      <td>0.0</td>\n",
       "      <td>124.200000</td>\n",
       "    </tr>\n",
       "    <tr>\n",
       "      <th>4</th>\n",
       "      <td>5</td>\n",
       "      <td>1</td>\n",
       "      <td>29.06</td>\n",
       "      <td>0.0</td>\n",
       "      <td>94.230000</td>\n",
       "    </tr>\n",
       "    <tr>\n",
       "      <th>...</th>\n",
       "      <td>...</td>\n",
       "      <td>...</td>\n",
       "      <td>...</td>\n",
       "      <td>...</td>\n",
       "      <td>...</td>\n",
       "    </tr>\n",
       "    <tr>\n",
       "      <th>360</th>\n",
       "      <td>27</td>\n",
       "      <td>12</td>\n",
       "      <td>28.36</td>\n",
       "      <td>0.0</td>\n",
       "      <td>157.833333</td>\n",
       "    </tr>\n",
       "    <tr>\n",
       "      <th>361</th>\n",
       "      <td>28</td>\n",
       "      <td>12</td>\n",
       "      <td>29.33</td>\n",
       "      <td>0.0</td>\n",
       "      <td>136.800000</td>\n",
       "    </tr>\n",
       "    <tr>\n",
       "      <th>362</th>\n",
       "      <td>29</td>\n",
       "      <td>12</td>\n",
       "      <td>31.07</td>\n",
       "      <td>0.0</td>\n",
       "      <td>151.700000</td>\n",
       "    </tr>\n",
       "    <tr>\n",
       "      <th>363</th>\n",
       "      <td>30</td>\n",
       "      <td>12</td>\n",
       "      <td>30.43</td>\n",
       "      <td>0.0</td>\n",
       "      <td>163.720000</td>\n",
       "    </tr>\n",
       "    <tr>\n",
       "      <th>364</th>\n",
       "      <td>31</td>\n",
       "      <td>12</td>\n",
       "      <td>30.60</td>\n",
       "      <td>0.0</td>\n",
       "      <td>162.133333</td>\n",
       "    </tr>\n",
       "  </tbody>\n",
       "</table>\n",
       "<p>365 rows × 5 columns</p>\n",
       "</div>"
      ],
      "text/plain": [
       "     S_D  S_M  TEMP_C  RAIN_MM         AQI\n",
       "0      1    1   26.09      0.0  159.500000\n",
       "1      2    1   26.20      0.0  150.566667\n",
       "2      3    1   26.68      0.0  152.066667\n",
       "3      4    1   27.84      0.0  124.200000\n",
       "4      5    1   29.06      0.0   94.230000\n",
       "..   ...  ...     ...      ...         ...\n",
       "360   27   12   28.36      0.0  157.833333\n",
       "361   28   12   29.33      0.0  136.800000\n",
       "362   29   12   31.07      0.0  151.700000\n",
       "363   30   12   30.43      0.0  163.720000\n",
       "364   31   12   30.60      0.0  162.133333\n",
       "\n",
       "[365 rows x 5 columns]"
      ]
     },
     "execution_count": 11,
     "metadata": {},
     "output_type": "execute_result"
    }
   ],
   "source": [
    "X_axis = dataFrame[['S_D', 'S_M', 'TEMP_C', 'RAIN_MM', 'AQI']]\n",
    "Y_axis = dataFrame[['MALARIA', 'DENGUE', 'CHICKENGUNIA']]\n",
    "X_axis"
   ]
  },
  {
   "cell_type": "code",
   "execution_count": 12,
   "metadata": {
    "colab": {
     "base_uri": "https://localhost:8080/"
    },
    "execution": {
     "iopub.execute_input": "2021-02-26T09:50:12.079499Z",
     "iopub.status.busy": "2021-02-26T09:50:12.07668Z",
     "iopub.status.idle": "2021-02-26T09:50:12.085174Z",
     "shell.execute_reply": "2021-02-26T09:50:12.08567Z"
    },
    "id": "yE0Oqgcz9Amv",
    "outputId": "01f67dd2-554f-47e5-cae9-c0665ec296a5",
    "papermill": {
     "duration": 0.034616,
     "end_time": "2021-02-26T09:50:12.085879",
     "exception": false,
     "start_time": "2021-02-26T09:50:12.051263",
     "status": "completed"
    },
    "tags": []
   },
   "outputs": [
    {
     "data": {
      "text/plain": [
       "5"
      ]
     },
     "execution_count": 12,
     "metadata": {},
     "output_type": "execute_result"
    }
   ],
   "source": [
    "X_axis = X_axis.astype(float)\n",
    "Y_axis = Y_axis.astype(float)\n",
    "X_axis, Y_axis = shuffle(X_axis, Y_axis)\n",
    "X_axis\n",
    "X_axis.shape[0] #390\n",
    "X_axis.shape[1] #19"
   ]
  },
  {
   "cell_type": "code",
   "execution_count": 13,
   "metadata": {
    "colab": {
     "base_uri": "https://localhost:8080/"
    },
    "execution": {
     "iopub.execute_input": "2021-02-26T09:50:12.12688Z",
     "iopub.status.busy": "2021-02-26T09:50:12.126201Z",
     "iopub.status.idle": "2021-02-26T09:50:12.140036Z",
     "shell.execute_reply": "2021-02-26T09:50:12.13947Z"
    },
    "id": "fyhGkO_v9Amv",
    "outputId": "bfad0b90-d7d3-4c47-a0f0-961436e1f9e7",
    "papermill": {
     "duration": 0.036325,
     "end_time": "2021-02-26T09:50:12.140188",
     "exception": false,
     "start_time": "2021-02-26T09:50:12.103863",
     "status": "completed"
    },
    "tags": []
   },
   "outputs": [
    {
     "name": "stdout",
     "output_type": "stream",
     "text": [
      "(300, 1, 5)\n",
      "(300, 3)\n"
     ]
    }
   ],
   "source": [
    "X_train = (X_axis.to_numpy()[:300]).reshape(300, 1, X_axis.shape[1]) #3D matrix 300 arrays each with 1 array each with 19 cols\n",
    "print(X_train.shape)\n",
    "#X_train = shuffle(X_train)\n",
    "Y_train = (Y_axis.to_numpy()[:300])\n",
    "print(Y_train.shape)\n",
    "#Y_train = shuffle(Y_train)"
   ]
  },
  {
   "cell_type": "code",
   "execution_count": 14,
   "metadata": {
    "colab": {
     "base_uri": "https://localhost:8080/"
    },
    "execution": {
     "iopub.execute_input": "2021-02-26T09:50:12.185252Z",
     "iopub.status.busy": "2021-02-26T09:50:12.184399Z",
     "iopub.status.idle": "2021-02-26T09:50:12.191658Z",
     "shell.execute_reply": "2021-02-26T09:50:12.192338Z"
    },
    "id": "Oyrq-XY-9Amw",
    "outputId": "793aba97-48f0-4bc9-bcd7-cd04e79d7400",
    "papermill": {
     "duration": 0.032642,
     "end_time": "2021-02-26T09:50:12.192573",
     "exception": false,
     "start_time": "2021-02-26T09:50:12.159931",
     "status": "completed"
    },
    "tags": []
   },
   "outputs": [
    {
     "name": "stdout",
     "output_type": "stream",
     "text": [
      "(45, 1, 5)\n",
      "(45, 3)\n"
     ]
    }
   ],
   "source": [
    "X_val = (X_axis.to_numpy()[300:345]).reshape(45, 1, X_axis.shape[1]) #3D matrix 50 arrays each with 1 array each with 19 cols\n",
    "print(X_val.shape)\n",
    "Y_val = (Y_axis.to_numpy()[300:345])\n",
    "print(Y_val.shape)"
   ]
  },
  {
   "cell_type": "code",
   "execution_count": 15,
   "metadata": {
    "colab": {
     "base_uri": "https://localhost:8080/"
    },
    "execution": {
     "iopub.execute_input": "2021-02-26T09:50:12.257529Z",
     "iopub.status.busy": "2021-02-26T09:50:12.256849Z",
     "iopub.status.idle": "2021-02-26T09:50:12.266043Z",
     "shell.execute_reply": "2021-02-26T09:50:12.264965Z"
    },
    "id": "fHL_OLq49Amw",
    "outputId": "c7fbc399-49b3-4637-c17b-8cce31d2aaf8",
    "papermill": {
     "duration": 0.045736,
     "end_time": "2021-02-26T09:50:12.266251",
     "exception": false,
     "start_time": "2021-02-26T09:50:12.220515",
     "status": "completed"
    },
    "tags": []
   },
   "outputs": [
    {
     "name": "stdout",
     "output_type": "stream",
     "text": [
      "(20, 1, 5)\n",
      "(20, 3)\n"
     ]
    }
   ],
   "source": [
    "X_test = (X_axis.to_numpy()[345:]).reshape(X_axis.to_numpy()[345:].shape[0], 1, X_axis.shape[1])\n",
    "print(X_test.shape)\n",
    "Y_test = (Y_axis.to_numpy()[345:])\n",
    "print(Y_test.shape)"
   ]
  },
  {
   "cell_type": "code",
   "execution_count": 16,
   "metadata": {
    "execution": {
     "iopub.execute_input": "2021-02-26T09:50:12.331503Z",
     "iopub.status.busy": "2021-02-26T09:50:12.3306Z",
     "iopub.status.idle": "2021-02-26T09:50:12.336576Z",
     "shell.execute_reply": "2021-02-26T09:50:12.335624Z"
    },
    "id": "-r6cbcy29Amw",
    "papermill": {
     "duration": 0.04006,
     "end_time": "2021-02-26T09:50:12.336778",
     "exception": false,
     "start_time": "2021-02-26T09:50:12.296718",
     "status": "completed"
    },
    "tags": []
   },
   "outputs": [],
   "source": [
    "modelname = './kurlaregion/modelkurlaregion.cpkt'\n",
    "modelpath = modelname\n",
    "modeldir = os.path.dirname(modelpath)\n",
    "callback = tf.keras.callbacks.ModelCheckpoint(filepath=modelpath, save_weights_only=True)"
   ]
  },
  {
   "cell_type": "code",
   "execution_count": 17,
   "metadata": {
    "execution": {
     "iopub.execute_input": "2021-02-26T09:50:12.534548Z",
     "iopub.status.busy": "2021-02-26T09:50:12.533444Z",
     "iopub.status.idle": "2021-02-26T09:50:12.556625Z",
     "shell.execute_reply": "2021-02-26T09:50:12.557292Z"
    },
    "id": "gp6B6eri9Amx",
    "papermill": {
     "duration": 0.057232,
     "end_time": "2021-02-26T09:50:12.557525",
     "exception": false,
     "start_time": "2021-02-26T09:50:12.500293",
     "status": "completed"
    },
    "tags": []
   },
   "outputs": [],
   "source": [
    "model = keras.Sequential()\n",
    "model.add(layers.LSTM(10, return_sequences=True))\n",
    "model.add(layers.LSTM(25, return_sequences=True))\n",
    "model.add(layers.SimpleRNN(25))\n",
    "model.add(layers.Dense(3))"
   ]
  },
  {
   "cell_type": "code",
   "execution_count": 18,
   "metadata": {
    "colab": {
     "base_uri": "https://localhost:8080/"
    },
    "execution": {
     "iopub.execute_input": "2021-02-26T09:50:12.623028Z",
     "iopub.status.busy": "2021-02-26T09:50:12.621715Z",
     "iopub.status.idle": "2021-02-26T09:50:37.176336Z",
     "shell.execute_reply": "2021-02-26T09:50:37.175135Z"
    },
    "id": "rlNctgdx9Amx",
    "outputId": "c27e82a9-8384-4f48-f030-e214342cf691",
    "papermill": {
     "duration": 24.587869,
     "end_time": "2021-02-26T09:50:37.176542",
     "exception": false,
     "start_time": "2021-02-26T09:50:12.588673",
     "status": "completed"
    },
    "tags": []
   },
   "outputs": [
    {
     "name": "stdout",
     "output_type": "stream",
     "text": [
      "Epoch 1/95\n",
      "10/10 [==============================] - 6s 130ms/step - loss: 3.0712 - accuracy: 0.4124 - val_loss: 2.3602 - val_accuracy: 0.0889\n",
      "Epoch 2/95\n",
      "10/10 [==============================] - 0s 14ms/step - loss: 2.2734 - accuracy: 0.1479 - val_loss: 2.2267 - val_accuracy: 0.0667\n",
      "Epoch 3/95\n",
      "10/10 [==============================] - 0s 13ms/step - loss: 2.0543 - accuracy: 0.1621 - val_loss: 2.0972 - val_accuracy: 0.0667\n",
      "Epoch 4/95\n",
      "10/10 [==============================] - 0s 14ms/step - loss: 2.2193 - accuracy: 0.0997 - val_loss: 1.9764 - val_accuracy: 0.0444\n",
      "Epoch 5/95\n",
      "10/10 [==============================] - 0s 14ms/step - loss: 2.2814 - accuracy: 0.0557 - val_loss: 1.8834 - val_accuracy: 0.0444\n",
      "Epoch 6/95\n",
      "10/10 [==============================] - 0s 14ms/step - loss: 2.1091 - accuracy: 0.0664 - val_loss: 1.8367 - val_accuracy: 0.0444\n",
      "Epoch 7/95\n",
      "10/10 [==============================] - 0s 14ms/step - loss: 1.9510 - accuracy: 0.0507 - val_loss: 1.8344 - val_accuracy: 0.1333\n",
      "Epoch 8/95\n",
      "10/10 [==============================] - 0s 15ms/step - loss: 1.9049 - accuracy: 0.2951 - val_loss: 1.8398 - val_accuracy: 0.3556\n",
      "Epoch 9/95\n",
      "10/10 [==============================] - 0s 14ms/step - loss: 1.7950 - accuracy: 0.5523 - val_loss: 1.8520 - val_accuracy: 0.9111\n",
      "Epoch 10/95\n",
      "10/10 [==============================] - 0s 14ms/step - loss: 2.0679 - accuracy: 0.9445 - val_loss: 1.8600 - val_accuracy: 0.9556\n",
      "Epoch 11/95\n",
      "10/10 [==============================] - 0s 17ms/step - loss: 1.8074 - accuracy: 0.9417 - val_loss: 1.8438 - val_accuracy: 0.9556\n",
      "Epoch 12/95\n",
      "10/10 [==============================] - 0s 17ms/step - loss: 1.6200 - accuracy: 0.9508 - val_loss: 1.8328 - val_accuracy: 0.9556\n",
      "Epoch 13/95\n",
      "10/10 [==============================] - 0s 17ms/step - loss: 1.7302 - accuracy: 0.9383 - val_loss: 1.8200 - val_accuracy: 0.9111\n",
      "Epoch 14/95\n",
      "10/10 [==============================] - 0s 16ms/step - loss: 1.9097 - accuracy: 0.9339 - val_loss: 1.8129 - val_accuracy: 0.9111\n",
      "Epoch 15/95\n",
      "10/10 [==============================] - 0s 16ms/step - loss: 1.7587 - accuracy: 0.8807 - val_loss: 1.8012 - val_accuracy: 0.7556\n",
      "Epoch 16/95\n",
      "10/10 [==============================] - 0s 14ms/step - loss: 1.8361 - accuracy: 0.8164 - val_loss: 1.7877 - val_accuracy: 0.7111\n",
      "Epoch 17/95\n",
      "10/10 [==============================] - 0s 14ms/step - loss: 1.8420 - accuracy: 0.8175 - val_loss: 1.7836 - val_accuracy: 0.6222\n",
      "Epoch 18/95\n",
      "10/10 [==============================] - 0s 10ms/step - loss: 1.8184 - accuracy: 0.7017 - val_loss: 1.7699 - val_accuracy: 0.5778\n",
      "Epoch 19/95\n",
      "10/10 [==============================] - 0s 10ms/step - loss: 1.6997 - accuracy: 0.6566 - val_loss: 1.7467 - val_accuracy: 0.5333\n",
      "Epoch 20/95\n",
      "10/10 [==============================] - 0s 8ms/step - loss: 1.8074 - accuracy: 0.6266 - val_loss: 1.7434 - val_accuracy: 0.6000\n",
      "Epoch 21/95\n",
      "10/10 [==============================] - 0s 8ms/step - loss: 1.5267 - accuracy: 0.7041 - val_loss: 1.7199 - val_accuracy: 0.5556\n",
      "Epoch 22/95\n",
      "10/10 [==============================] - 0s 10ms/step - loss: 1.5957 - accuracy: 0.6547 - val_loss: 1.6990 - val_accuracy: 0.5556\n",
      "Epoch 23/95\n",
      "10/10 [==============================] - 0s 9ms/step - loss: 1.8002 - accuracy: 0.6395 - val_loss: 1.6904 - val_accuracy: 0.5556\n",
      "Epoch 24/95\n",
      "10/10 [==============================] - 0s 7ms/step - loss: 1.5398 - accuracy: 0.6583 - val_loss: 1.6757 - val_accuracy: 0.5556\n",
      "Epoch 25/95\n",
      "10/10 [==============================] - 0s 10ms/step - loss: 1.7030 - accuracy: 0.6683 - val_loss: 1.6390 - val_accuracy: 0.5556\n",
      "Epoch 26/95\n",
      "10/10 [==============================] - 0s 10ms/step - loss: 1.6653 - accuracy: 0.6933 - val_loss: 1.6223 - val_accuracy: 0.5556\n",
      "Epoch 27/95\n",
      "10/10 [==============================] - 0s 9ms/step - loss: 1.5446 - accuracy: 0.6367 - val_loss: 1.5837 - val_accuracy: 0.5333\n",
      "Epoch 28/95\n",
      "10/10 [==============================] - 0s 9ms/step - loss: 1.5929 - accuracy: 0.5745 - val_loss: 1.5714 - val_accuracy: 0.5333\n",
      "Epoch 29/95\n",
      "10/10 [==============================] - 0s 8ms/step - loss: 1.7461 - accuracy: 0.6330 - val_loss: 1.5119 - val_accuracy: 0.5333\n",
      "Epoch 30/95\n",
      "10/10 [==============================] - 0s 10ms/step - loss: 1.5386 - accuracy: 0.6487 - val_loss: 1.4966 - val_accuracy: 0.5556\n",
      "Epoch 31/95\n",
      "10/10 [==============================] - 0s 9ms/step - loss: 1.4270 - accuracy: 0.6539 - val_loss: 1.4534 - val_accuracy: 0.5333\n",
      "Epoch 32/95\n",
      "10/10 [==============================] - 0s 7ms/step - loss: 1.3804 - accuracy: 0.6472 - val_loss: 1.4145 - val_accuracy: 0.5333\n",
      "Epoch 33/95\n",
      "10/10 [==============================] - 0s 9ms/step - loss: 1.2311 - accuracy: 0.6607 - val_loss: 1.4304 - val_accuracy: 0.5333\n",
      "Epoch 34/95\n",
      "10/10 [==============================] - 0s 10ms/step - loss: 1.6758 - accuracy: 0.6339 - val_loss: 1.3884 - val_accuracy: 0.5333\n",
      "Epoch 35/95\n",
      "10/10 [==============================] - 0s 7ms/step - loss: 1.3393 - accuracy: 0.6296 - val_loss: 1.3635 - val_accuracy: 0.5333\n",
      "Epoch 36/95\n",
      "10/10 [==============================] - 0s 11ms/step - loss: 1.3589 - accuracy: 0.6106 - val_loss: 1.4005 - val_accuracy: 0.5333\n",
      "Epoch 37/95\n",
      "10/10 [==============================] - 0s 9ms/step - loss: 1.4409 - accuracy: 0.6476 - val_loss: 1.3500 - val_accuracy: 0.5333\n",
      "Epoch 38/95\n",
      "10/10 [==============================] - 0s 7ms/step - loss: 1.3800 - accuracy: 0.6131 - val_loss: 1.3194 - val_accuracy: 0.5333\n",
      "Epoch 39/95\n",
      "10/10 [==============================] - 0s 11ms/step - loss: 1.2585 - accuracy: 0.6264 - val_loss: 1.2969 - val_accuracy: 0.5333\n",
      "Epoch 40/95\n",
      "10/10 [==============================] - 0s 10ms/step - loss: 1.3260 - accuracy: 0.6377 - val_loss: 1.2563 - val_accuracy: 0.5111\n",
      "Epoch 41/95\n",
      "10/10 [==============================] - 0s 6ms/step - loss: 1.3517 - accuracy: 0.6140 - val_loss: 1.2528 - val_accuracy: 0.4889\n",
      "Epoch 42/95\n",
      "10/10 [==============================] - 0s 11ms/step - loss: 1.5304 - accuracy: 0.5894 - val_loss: 1.3014 - val_accuracy: 0.5111\n",
      "Epoch 43/95\n",
      "10/10 [==============================] - 0s 9ms/step - loss: 1.3603 - accuracy: 0.6004 - val_loss: 1.2637 - val_accuracy: 0.5111\n",
      "Epoch 44/95\n",
      "10/10 [==============================] - 0s 7ms/step - loss: 1.4513 - accuracy: 0.6248 - val_loss: 1.2625 - val_accuracy: 0.5556\n",
      "Epoch 45/95\n",
      "10/10 [==============================] - 0s 7ms/step - loss: 1.3441 - accuracy: 0.6523 - val_loss: 1.2265 - val_accuracy: 0.6222\n",
      "Epoch 46/95\n",
      "10/10 [==============================] - 0s 7ms/step - loss: 1.1529 - accuracy: 0.6922 - val_loss: 1.2228 - val_accuracy: 0.6667\n",
      "Epoch 47/95\n",
      "10/10 [==============================] - 0s 7ms/step - loss: 1.1545 - accuracy: 0.6740 - val_loss: 1.2211 - val_accuracy: 0.5778\n",
      "Epoch 48/95\n",
      "10/10 [==============================] - 0s 8ms/step - loss: 1.1528 - accuracy: 0.6312 - val_loss: 1.1550 - val_accuracy: 0.6000\n",
      "Epoch 49/95\n",
      "10/10 [==============================] - 0s 8ms/step - loss: 1.2880 - accuracy: 0.7234 - val_loss: 1.1409 - val_accuracy: 0.6000\n",
      "Epoch 50/95\n",
      "10/10 [==============================] - 0s 8ms/step - loss: 1.2342 - accuracy: 0.7030 - val_loss: 1.1089 - val_accuracy: 0.6444\n",
      "Epoch 51/95\n",
      "10/10 [==============================] - 0s 8ms/step - loss: 1.2700 - accuracy: 0.7123 - val_loss: 1.0859 - val_accuracy: 0.6667\n",
      "Epoch 52/95\n",
      "10/10 [==============================] - 0s 7ms/step - loss: 1.1034 - accuracy: 0.6883 - val_loss: 1.0353 - val_accuracy: 0.6222\n",
      "Epoch 53/95\n",
      "10/10 [==============================] - 0s 7ms/step - loss: 1.1146 - accuracy: 0.7449 - val_loss: 1.0053 - val_accuracy: 0.6222\n",
      "Epoch 54/95\n",
      "10/10 [==============================] - 0s 11ms/step - loss: 1.2751 - accuracy: 0.7247 - val_loss: 0.9691 - val_accuracy: 0.6222\n",
      "Epoch 55/95\n",
      "10/10 [==============================] - 0s 8ms/step - loss: 1.1619 - accuracy: 0.7106 - val_loss: 0.9497 - val_accuracy: 0.5778\n",
      "Epoch 56/95\n",
      "10/10 [==============================] - 0s 7ms/step - loss: 1.1852 - accuracy: 0.6629 - val_loss: 0.9443 - val_accuracy: 0.5778\n",
      "Epoch 57/95\n",
      "10/10 [==============================] - 0s 7ms/step - loss: 1.0853 - accuracy: 0.6838 - val_loss: 0.9208 - val_accuracy: 0.6222\n",
      "Epoch 58/95\n",
      "10/10 [==============================] - 0s 7ms/step - loss: 1.1313 - accuracy: 0.6921 - val_loss: 0.9229 - val_accuracy: 0.6000\n",
      "Epoch 59/95\n",
      "10/10 [==============================] - 0s 7ms/step - loss: 1.0775 - accuracy: 0.6608 - val_loss: 0.8777 - val_accuracy: 0.5111\n",
      "Epoch 60/95\n",
      "10/10 [==============================] - 0s 9ms/step - loss: 1.1375 - accuracy: 0.6535 - val_loss: 0.8651 - val_accuracy: 0.5333\n",
      "Epoch 61/95\n",
      "10/10 [==============================] - 0s 8ms/step - loss: 1.0753 - accuracy: 0.6884 - val_loss: 0.8574 - val_accuracy: 0.5556\n",
      "Epoch 62/95\n",
      "10/10 [==============================] - 0s 9ms/step - loss: 1.1369 - accuracy: 0.6661 - val_loss: 0.8390 - val_accuracy: 0.5556\n",
      "Epoch 63/95\n",
      "10/10 [==============================] - 0s 8ms/step - loss: 1.0178 - accuracy: 0.6414 - val_loss: 0.8165 - val_accuracy: 0.5556\n",
      "Epoch 64/95\n",
      "10/10 [==============================] - 0s 8ms/step - loss: 1.1455 - accuracy: 0.6874 - val_loss: 0.7979 - val_accuracy: 0.5556\n",
      "Epoch 65/95\n",
      "10/10 [==============================] - 0s 10ms/step - loss: 1.0710 - accuracy: 0.6438 - val_loss: 0.7925 - val_accuracy: 0.5556\n",
      "Epoch 66/95\n",
      "10/10 [==============================] - 0s 10ms/step - loss: 1.0755 - accuracy: 0.6804 - val_loss: 0.7772 - val_accuracy: 0.5333\n",
      "Epoch 67/95\n",
      "10/10 [==============================] - 0s 11ms/step - loss: 1.0895 - accuracy: 0.6129 - val_loss: 0.7661 - val_accuracy: 0.5111\n",
      "Epoch 68/95\n",
      "10/10 [==============================] - 0s 11ms/step - loss: 1.0760 - accuracy: 0.6349 - val_loss: 0.7512 - val_accuracy: 0.5333\n",
      "Epoch 69/95\n",
      "10/10 [==============================] - 0s 9ms/step - loss: 1.0434 - accuracy: 0.6044 - val_loss: 0.7511 - val_accuracy: 0.5333\n",
      "Epoch 70/95\n",
      "10/10 [==============================] - 0s 10ms/step - loss: 0.9319 - accuracy: 0.6239 - val_loss: 0.7404 - val_accuracy: 0.5333\n",
      "Epoch 71/95\n",
      "10/10 [==============================] - 0s 8ms/step - loss: 0.9758 - accuracy: 0.6405 - val_loss: 0.7186 - val_accuracy: 0.5333\n",
      "Epoch 72/95\n",
      "10/10 [==============================] - 0s 8ms/step - loss: 1.0174 - accuracy: 0.6627 - val_loss: 0.7230 - val_accuracy: 0.5333\n",
      "Epoch 73/95\n",
      "10/10 [==============================] - 0s 8ms/step - loss: 0.9642 - accuracy: 0.6144 - val_loss: 0.7168 - val_accuracy: 0.5333\n",
      "Epoch 74/95\n",
      "10/10 [==============================] - 0s 7ms/step - loss: 0.9965 - accuracy: 0.6449 - val_loss: 0.7009 - val_accuracy: 0.5333\n",
      "Epoch 75/95\n",
      "10/10 [==============================] - 0s 8ms/step - loss: 1.0194 - accuracy: 0.6111 - val_loss: 0.6821 - val_accuracy: 0.5333\n",
      "Epoch 76/95\n",
      "10/10 [==============================] - 0s 9ms/step - loss: 0.9561 - accuracy: 0.6195 - val_loss: 0.6743 - val_accuracy: 0.5333\n",
      "Epoch 77/95\n",
      "10/10 [==============================] - 0s 9ms/step - loss: 0.9968 - accuracy: 0.6578 - val_loss: 0.6772 - val_accuracy: 0.5111\n",
      "Epoch 78/95\n",
      "10/10 [==============================] - 0s 9ms/step - loss: 0.8851 - accuracy: 0.6212 - val_loss: 0.6762 - val_accuracy: 0.5333\n",
      "Epoch 79/95\n",
      "10/10 [==============================] - 0s 10ms/step - loss: 0.9981 - accuracy: 0.6806 - val_loss: 0.6635 - val_accuracy: 0.5111\n",
      "Epoch 80/95\n",
      "10/10 [==============================] - 0s 9ms/step - loss: 0.9739 - accuracy: 0.6213 - val_loss: 0.6731 - val_accuracy: 0.5111\n",
      "Epoch 81/95\n",
      "10/10 [==============================] - 0s 10ms/step - loss: 0.9096 - accuracy: 0.6460 - val_loss: 0.6475 - val_accuracy: 0.4667\n",
      "Epoch 82/95\n",
      "10/10 [==============================] - 0s 11ms/step - loss: 0.9337 - accuracy: 0.6076 - val_loss: 0.6475 - val_accuracy: 0.5333\n",
      "Epoch 83/95\n",
      "10/10 [==============================] - 0s 10ms/step - loss: 1.0292 - accuracy: 0.6032 - val_loss: 0.6310 - val_accuracy: 0.5111\n",
      "Epoch 84/95\n",
      "10/10 [==============================] - 0s 10ms/step - loss: 0.9356 - accuracy: 0.5992 - val_loss: 0.6221 - val_accuracy: 0.5111\n",
      "Epoch 85/95\n",
      "10/10 [==============================] - 0s 11ms/step - loss: 0.8984 - accuracy: 0.6145 - val_loss: 0.6121 - val_accuracy: 0.4889\n",
      "Epoch 86/95\n",
      "10/10 [==============================] - 0s 10ms/step - loss: 0.9432 - accuracy: 0.5907 - val_loss: 0.6236 - val_accuracy: 0.5111\n",
      "Epoch 87/95\n",
      "10/10 [==============================] - 0s 10ms/step - loss: 0.9048 - accuracy: 0.6357 - val_loss: 0.6204 - val_accuracy: 0.4889\n",
      "Epoch 88/95\n",
      "10/10 [==============================] - 0s 9ms/step - loss: 0.8823 - accuracy: 0.5900 - val_loss: 0.6080 - val_accuracy: 0.4889\n",
      "Epoch 89/95\n",
      "10/10 [==============================] - 0s 11ms/step - loss: 0.8923 - accuracy: 0.6047 - val_loss: 0.6102 - val_accuracy: 0.5333\n",
      "Epoch 90/95\n",
      "10/10 [==============================] - 0s 10ms/step - loss: 0.8658 - accuracy: 0.6348 - val_loss: 0.5989 - val_accuracy: 0.5111\n",
      "Epoch 91/95\n",
      "10/10 [==============================] - 0s 10ms/step - loss: 0.9722 - accuracy: 0.6051 - val_loss: 0.5931 - val_accuracy: 0.5111\n",
      "Epoch 92/95\n",
      "10/10 [==============================] - 0s 9ms/step - loss: 0.8854 - accuracy: 0.6240 - val_loss: 0.5835 - val_accuracy: 0.4889\n",
      "Epoch 93/95\n",
      "10/10 [==============================] - 0s 9ms/step - loss: 0.9367 - accuracy: 0.6011 - val_loss: 0.6012 - val_accuracy: 0.5333\n",
      "Epoch 94/95\n",
      "10/10 [==============================] - 0s 11ms/step - loss: 1.0000 - accuracy: 0.6275 - val_loss: 0.6031 - val_accuracy: 0.5333\n",
      "Epoch 95/95\n",
      "10/10 [==============================] - 0s 10ms/step - loss: 0.9694 - accuracy: 0.6419 - val_loss: 0.5739 - val_accuracy: 0.4889\n"
     ]
    }
   ],
   "source": [
    "model.compile(loss=\"mse\", optimizer=\"adam\", metrics=[\"accuracy\"])\n",
    "history = model.fit(X_train, Y_train, validation_data=(X_val, Y_val), epochs=95, callbacks=[callback])"
   ]
  },
  {
   "cell_type": "code",
   "execution_count": 19,
   "metadata": {
    "colab": {
     "base_uri": "https://localhost:8080/"
    },
    "execution": {
     "iopub.execute_input": "2021-02-26T09:50:37.596992Z",
     "iopub.status.busy": "2021-02-26T09:50:37.595866Z",
     "iopub.status.idle": "2021-02-26T09:50:37.737389Z",
     "shell.execute_reply": "2021-02-26T09:50:37.737871Z"
    },
    "id": "kTxeIHHI9Amx",
    "outputId": "f0534be9-0f1d-4070-f84d-997762fec996",
    "papermill": {
     "duration": 0.347144,
     "end_time": "2021-02-26T09:50:37.738064",
     "exception": false,
     "start_time": "2021-02-26T09:50:37.39092",
     "status": "completed"
    },
    "tags": []
   },
   "outputs": [
    {
     "name": "stdout",
     "output_type": "stream",
     "text": [
      "2/2 [==============================] - 0s 4ms/step - loss: 0.5739 - accuracy: 0.4889\n",
      "Validation loss: 0.5739, Validation accuracy: 0.4889\n",
      "1/1 [==============================] - 0s 21ms/step - loss: 1.8853 - accuracy: 0.7000\n",
      "Final loss: 1.8853, final accuracy: 0.7\n"
     ]
    }
   ],
   "source": [
    "validation_loss, validation_accuracy = model.evaluate(X_val, Y_val)\n",
    "print(\"Validation loss: {0:.4f}, Validation accuracy: {1:.4}\".format(validation_loss, validation_accuracy))\n",
    "\n",
    "test_loss, test_accuracy = model.evaluate(X_test, Y_test)\n",
    "print(\"Final loss: {0:.4f}, final accuracy: {1:.4}\".format(test_loss, test_accuracy))"
   ]
  },
  {
   "cell_type": "code",
   "execution_count": 20,
   "metadata": {
    "colab": {
     "base_uri": "https://localhost:8080/",
     "height": 573
    },
    "execution": {
     "iopub.execute_input": "2021-02-26T09:50:38.03446Z",
     "iopub.status.busy": "2021-02-26T09:50:38.03337Z",
     "iopub.status.idle": "2021-02-26T09:50:38.469386Z",
     "shell.execute_reply": "2021-02-26T09:50:38.468771Z"
    },
    "id": "GSWP9w8S9Amy",
    "outputId": "cb9c4947-168a-400c-bb9c-39b81f5cdab6",
    "papermill": {
     "duration": 0.601225,
     "end_time": "2021-02-26T09:50:38.469538",
     "exception": false,
     "start_time": "2021-02-26T09:50:37.868313",
     "status": "completed"
    },
    "tags": []
   },
   "outputs": [
    {
     "data": {
      "image/png": "[encoded data removed]",
      "text/plain": [
       "<Figure size 432x288 with 1 Axes>"
      ]
     },
     "metadata": {
      "needs_background": "light"
     },
     "output_type": "display_data"
    },
    {
     "data": {
      "image/png": "[encoded data removed]",
      "text/plain": [
       "<Figure size 432x288 with 1 Axes>"
      ]
     },
     "metadata": {
      "needs_background": "light"
     },
     "output_type": "display_data"
    }
   ],
   "source": [
    "import matplotlib.pyplot as plt\n",
    "\n",
    "plt.plot(history.history['accuracy'], label='train')\n",
    "plt.plot(history.history['val_accuracy'], label='test')\n",
    "plt.legend(loc='upper right')\n",
    "plt.title('Model Accuracy')\n",
    "plt.ylabel('Accuracy')\n",
    "plt.xlabel('Epoch')\n",
    "plt.show()\n",
    "\n",
    "plt.plot(history.history['loss'], label='train')\n",
    "plt.plot(history.history['val_loss'], label='test')\n",
    "plt.legend(loc='upper right')\n",
    "plt.title('Model loss')\n",
    "plt.ylabel('loss')\n",
    "plt.xlabel('Epoch')\n",
    "plt.show()"
   ]
  },
  {
   "cell_type": "code",
   "execution_count": 21,
   "metadata": {
    "colab": {
     "base_uri": "https://localhost:8080/",
     "height": 329
    },
    "id": "zMTNf3hZqO_M",
    "outputId": "5c714a65-e82e-4aac-ed1b-7044d12de24c"
   },
   "outputs": [
    {
     "data": {
      "text/plain": [
       "<Figure size 432x288 with 0 Axes>"
      ]
     },
     "execution_count": 21,
     "metadata": {},
     "output_type": "execute_result"
    },
    {
     "data": {
      "image/png": "[encoded data removed]",
      "text/plain": [
       "<Figure size 432x288 with 1 Axes>"
      ]
     },
     "metadata": {
      "needs_background": "light"
     },
     "output_type": "display_data"
    },
    {
     "data": {
      "text/plain": [
       "<Figure size 432x288 with 0 Axes>"
      ]
     },
     "metadata": {},
     "output_type": "display_data"
    }
   ],
   "source": [
    "\n",
    "plt.plot(history.history['loss'], label='train loss')\n",
    "plt.plot(history.history['val_loss'], label='test loss')\n",
    "plt.plot(history.history['accuracy'], label='train acc')\n",
    "plt.plot(history.history['val_accuracy'], label='test acc')\n",
    "plt.title(\"Model Loss and Accuracy\")\n",
    "plt.xlabel(\"Epoch #\")\n",
    "plt.ylabel(\"Loss/Accuracy\")\n",
    "plt.legend(loc=\"best\")\n",
    "plt.figure()"
   ]
  },
  {
   "cell_type": "code",
   "execution_count": 22,
   "metadata": {
    "execution": {
     "iopub.execute_input": "2021-02-26T09:50:38.753286Z",
     "iopub.status.busy": "2021-02-26T09:50:38.752583Z",
     "iopub.status.idle": "2021-02-26T09:50:38.775534Z",
     "shell.execute_reply": "2021-02-26T09:50:38.776035Z"
    },
    "id": "vFZYDoh_9Amy",
    "papermill": {
     "duration": 0.177827,
     "end_time": "2021-02-26T09:50:38.776244",
     "exception": false,
     "start_time": "2021-02-26T09:50:38.598417",
     "status": "completed"
    },
    "tags": []
   },
   "outputs": [],
   "source": [
    "model = keras.Sequential()\n",
    "model.add(layers.GRU(10, return_sequences=True))\n",
    "model.add(layers.GRU(25, return_sequences=True))\n",
    "model.add(layers.SimpleRNN(25))\n",
    "model.add(layers.Dense(3))"
   ]
  },
  {
   "cell_type": "code",
   "execution_count": 23,
   "metadata": {
    "colab": {
     "base_uri": "https://localhost:8080/"
    },
    "execution": {
     "iopub.execute_input": "2021-02-26T09:50:39.034793Z",
     "iopub.status.busy": "2021-02-26T09:50:39.034066Z",
     "iopub.status.idle": "2021-02-26T09:51:02.303713Z",
     "shell.execute_reply": "2021-02-26T09:51:02.302983Z"
    },
    "id": "6mYN78969Amy",
    "outputId": "292fb992-455f-44ac-bdf2-b5c5a00ad38d",
    "papermill": {
     "duration": 23.401468,
     "end_time": "2021-02-26T09:51:02.303879",
     "exception": false,
     "start_time": "2021-02-26T09:50:38.902411",
     "status": "completed"
    },
    "tags": []
   },
   "outputs": [
    {
     "name": "stdout",
     "output_type": "stream",
     "text": [
      "Epoch 1/95\n",
      "10/10 [==============================] - 5s 63ms/step - loss: 3.2179 - accuracy: 0.9515 - val_loss: 2.2439 - val_accuracy: 0.9556\n",
      "Epoch 2/95\n",
      "10/10 [==============================] - 0s 8ms/step - loss: 2.0775 - accuracy: 0.9385 - val_loss: 1.9604 - val_accuracy: 0.9556\n",
      "Epoch 3/95\n",
      "10/10 [==============================] - 0s 7ms/step - loss: 1.7405 - accuracy: 0.9167 - val_loss: 1.8323 - val_accuracy: 0.9556\n",
      "Epoch 4/95\n",
      "10/10 [==============================] - 0s 7ms/step - loss: 1.8388 - accuracy: 0.9360 - val_loss: 1.8384 - val_accuracy: 0.9556\n",
      "Epoch 5/95\n",
      "10/10 [==============================] - 0s 8ms/step - loss: 1.9636 - accuracy: 0.9443 - val_loss: 1.8648 - val_accuracy: 0.9556\n",
      "Epoch 6/95\n",
      "10/10 [==============================] - 0s 35ms/step - loss: 1.8678 - accuracy: 0.9336 - val_loss: 1.8719 - val_accuracy: 0.9556\n",
      "Epoch 7/95\n",
      "10/10 [==============================] - 0s 8ms/step - loss: 1.8895 - accuracy: 0.6325 - val_loss: 1.8462 - val_accuracy: 0.0444\n",
      "Epoch 8/95\n",
      "10/10 [==============================] - 0s 7ms/step - loss: 1.8785 - accuracy: 0.1430 - val_loss: 1.8281 - val_accuracy: 0.9556\n",
      "Epoch 9/95\n",
      "10/10 [==============================] - 0s 7ms/step - loss: 1.7789 - accuracy: 0.9264 - val_loss: 1.8336 - val_accuracy: 0.9556\n",
      "Epoch 10/95\n",
      "10/10 [==============================] - 0s 8ms/step - loss: 2.0560 - accuracy: 0.9445 - val_loss: 1.8448 - val_accuracy: 0.9556\n",
      "Epoch 11/95\n",
      "10/10 [==============================] - 0s 8ms/step - loss: 1.8131 - accuracy: 0.9417 - val_loss: 1.8358 - val_accuracy: 0.9556\n",
      "Epoch 12/95\n",
      "10/10 [==============================] - 0s 8ms/step - loss: 1.6265 - accuracy: 0.9372 - val_loss: 1.8318 - val_accuracy: 0.9556\n",
      "Epoch 13/95\n",
      "10/10 [==============================] - 0s 8ms/step - loss: 1.7252 - accuracy: 0.9268 - val_loss: 1.8289 - val_accuracy: 0.9556\n",
      "Epoch 14/95\n",
      "10/10 [==============================] - 0s 8ms/step - loss: 1.9167 - accuracy: 0.9440 - val_loss: 1.8390 - val_accuracy: 0.9556\n",
      "Epoch 15/95\n",
      "10/10 [==============================] - 0s 8ms/step - loss: 1.7797 - accuracy: 0.9394 - val_loss: 1.8429 - val_accuracy: 0.9556\n",
      "Epoch 16/95\n",
      "10/10 [==============================] - 0s 8ms/step - loss: 1.8658 - accuracy: 0.9466 - val_loss: 1.8405 - val_accuracy: 0.9556\n",
      "Epoch 17/95\n",
      "10/10 [==============================] - 0s 9ms/step - loss: 1.8818 - accuracy: 0.9503 - val_loss: 1.8426 - val_accuracy: 0.9556\n",
      "Epoch 18/95\n",
      "10/10 [==============================] - 0s 11ms/step - loss: 1.8715 - accuracy: 0.9329 - val_loss: 1.8402 - val_accuracy: 0.9556\n",
      "Epoch 19/95\n",
      "10/10 [==============================] - 0s 13ms/step - loss: 1.7439 - accuracy: 0.9065 - val_loss: 1.8311 - val_accuracy: 0.9333\n",
      "Epoch 20/95\n",
      "10/10 [==============================] - 0s 11ms/step - loss: 1.8868 - accuracy: 0.9566 - val_loss: 1.8414 - val_accuracy: 0.9556\n",
      "Epoch 21/95\n",
      "10/10 [==============================] - 0s 10ms/step - loss: 1.5959 - accuracy: 0.9277 - val_loss: 1.8387 - val_accuracy: 0.9556\n",
      "Epoch 22/95\n",
      "10/10 [==============================] - 0s 9ms/step - loss: 1.6933 - accuracy: 0.9467 - val_loss: 1.8399 - val_accuracy: 0.9556\n",
      "Epoch 23/95\n",
      "10/10 [==============================] - 0s 8ms/step - loss: 1.9139 - accuracy: 0.9435 - val_loss: 1.8404 - val_accuracy: 0.9556\n",
      "Epoch 24/95\n",
      "10/10 [==============================] - 0s 10ms/step - loss: 1.6905 - accuracy: 0.9360 - val_loss: 1.8452 - val_accuracy: 0.9556\n",
      "Epoch 25/95\n",
      "10/10 [==============================] - 0s 14ms/step - loss: 1.8839 - accuracy: 0.9234 - val_loss: 1.8419 - val_accuracy: 0.9556\n",
      "Epoch 26/95\n",
      "10/10 [==============================] - 0s 13ms/step - loss: 1.8482 - accuracy: 0.9489 - val_loss: 1.8489 - val_accuracy: 0.9556\n",
      "Epoch 27/95\n",
      "10/10 [==============================] - 0s 10ms/step - loss: 1.7577 - accuracy: 0.9443 - val_loss: 1.8310 - val_accuracy: 0.9556\n",
      "Epoch 28/95\n",
      "10/10 [==============================] - 0s 9ms/step - loss: 1.8546 - accuracy: 0.9362 - val_loss: 1.8362 - val_accuracy: 0.9556\n",
      "Epoch 29/95\n",
      "10/10 [==============================] - 0s 9ms/step - loss: 2.0138 - accuracy: 0.9285 - val_loss: 1.8457 - val_accuracy: 0.9556\n",
      "Epoch 30/95\n",
      "10/10 [==============================] - 0s 9ms/step - loss: 1.8103 - accuracy: 0.9290 - val_loss: 1.8371 - val_accuracy: 0.9556\n",
      "Epoch 31/95\n",
      "10/10 [==============================] - 0s 8ms/step - loss: 1.7302 - accuracy: 0.9568 - val_loss: 1.8314 - val_accuracy: 0.9556\n",
      "Epoch 32/95\n",
      "10/10 [==============================] - 0s 10ms/step - loss: 1.7567 - accuracy: 0.9516 - val_loss: 1.8344 - val_accuracy: 0.9556\n",
      "Epoch 33/95\n",
      "10/10 [==============================] - 0s 12ms/step - loss: 1.6336 - accuracy: 0.9345 - val_loss: 1.8309 - val_accuracy: 0.9556\n",
      "Epoch 34/95\n",
      "10/10 [==============================] - 0s 12ms/step - loss: 2.1009 - accuracy: 0.9291 - val_loss: 1.8469 - val_accuracy: 0.9556\n",
      "Epoch 35/95\n",
      "10/10 [==============================] - 0s 10ms/step - loss: 1.6471 - accuracy: 0.9300 - val_loss: 1.8311 - val_accuracy: 0.9556\n",
      "Epoch 36/95\n",
      "10/10 [==============================] - 0s 8ms/step - loss: 1.7650 - accuracy: 0.9310 - val_loss: 1.8346 - val_accuracy: 0.9556\n",
      "Epoch 37/95\n",
      "10/10 [==============================] - 0s 9ms/step - loss: 1.7496 - accuracy: 0.9199 - val_loss: 1.8516 - val_accuracy: 0.9556\n",
      "Epoch 38/95\n",
      "10/10 [==============================] - 0s 8ms/step - loss: 1.7702 - accuracy: 0.9287 - val_loss: 1.8451 - val_accuracy: 0.9556\n",
      "Epoch 39/95\n",
      "10/10 [==============================] - 0s 8ms/step - loss: 1.7227 - accuracy: 0.9457 - val_loss: 1.8387 - val_accuracy: 0.9556\n",
      "Epoch 40/95\n",
      "10/10 [==============================] - 0s 8ms/step - loss: 1.7688 - accuracy: 0.9501 - val_loss: 1.8367 - val_accuracy: 0.9556\n",
      "Epoch 41/95\n",
      "10/10 [==============================] - 0s 8ms/step - loss: 1.7306 - accuracy: 0.9220 - val_loss: 1.8264 - val_accuracy: 0.9556\n",
      "Epoch 42/95\n",
      "10/10 [==============================] - 0s 8ms/step - loss: 1.9609 - accuracy: 0.9434 - val_loss: 1.8390 - val_accuracy: 0.9556\n",
      "Epoch 43/95\n",
      "10/10 [==============================] - 0s 8ms/step - loss: 1.7204 - accuracy: 0.9319 - val_loss: 1.8354 - val_accuracy: 0.9556\n",
      "Epoch 44/95\n",
      "10/10 [==============================] - 0s 10ms/step - loss: 1.9454 - accuracy: 0.9433 - val_loss: 1.8433 - val_accuracy: 0.9556\n",
      "Epoch 45/95\n",
      "10/10 [==============================] - 0s 12ms/step - loss: 1.8836 - accuracy: 0.9404 - val_loss: 1.8359 - val_accuracy: 0.9556\n",
      "Epoch 46/95\n",
      "10/10 [==============================] - 0s 11ms/step - loss: 1.5754 - accuracy: 0.9531 - val_loss: 1.8160 - val_accuracy: 0.9556\n",
      "Epoch 47/95\n",
      "10/10 [==============================] - 0s 9ms/step - loss: 1.5510 - accuracy: 0.9119 - val_loss: 1.8255 - val_accuracy: 0.9556\n",
      "Epoch 48/95\n",
      "10/10 [==============================] - 0s 8ms/step - loss: 1.5790 - accuracy: 0.9374 - val_loss: 1.8257 - val_accuracy: 0.9556\n",
      "Epoch 49/95\n",
      "10/10 [==============================] - 0s 8ms/step - loss: 1.8092 - accuracy: 0.9306 - val_loss: 1.8267 - val_accuracy: 0.9556\n",
      "Epoch 50/95\n",
      "10/10 [==============================] - 0s 8ms/step - loss: 1.7318 - accuracy: 0.9206 - val_loss: 1.8236 - val_accuracy: 0.9556\n",
      "Epoch 51/95\n",
      "10/10 [==============================] - 0s 11ms/step - loss: 1.7123 - accuracy: 0.9342 - val_loss: 1.8269 - val_accuracy: 0.9556\n",
      "Epoch 52/95\n",
      "10/10 [==============================] - 0s 12ms/step - loss: 1.6548 - accuracy: 0.9248 - val_loss: 1.8107 - val_accuracy: 0.9556\n",
      "Epoch 53/95\n",
      "10/10 [==============================] - 0s 12ms/step - loss: 1.5463 - accuracy: 0.9246 - val_loss: 1.8069 - val_accuracy: 0.9556\n",
      "Epoch 54/95\n",
      "10/10 [==============================] - 0s 8ms/step - loss: 1.8695 - accuracy: 0.9352 - val_loss: 1.8063 - val_accuracy: 0.9556\n",
      "Epoch 55/95\n",
      "10/10 [==============================] - 0s 8ms/step - loss: 1.7923 - accuracy: 0.9135 - val_loss: 1.8024 - val_accuracy: 0.9556\n",
      "Epoch 56/95\n",
      "10/10 [==============================] - 0s 8ms/step - loss: 1.8096 - accuracy: 0.9121 - val_loss: 1.8103 - val_accuracy: 0.9556\n",
      "Epoch 57/95\n",
      "10/10 [==============================] - 0s 8ms/step - loss: 1.6573 - accuracy: 0.9490 - val_loss: 1.8092 - val_accuracy: 0.9556\n",
      "Epoch 58/95\n",
      "10/10 [==============================] - 0s 8ms/step - loss: 1.6287 - accuracy: 0.9396 - val_loss: 1.8166 - val_accuracy: 0.9556\n",
      "Epoch 59/95\n",
      "10/10 [==============================] - 0s 8ms/step - loss: 1.7465 - accuracy: 0.9208 - val_loss: 1.8128 - val_accuracy: 0.9556\n",
      "Epoch 60/95\n",
      "10/10 [==============================] - 0s 8ms/step - loss: 1.8195 - accuracy: 0.9240 - val_loss: 1.7932 - val_accuracy: 0.9556\n",
      "Epoch 61/95\n",
      "10/10 [==============================] - 0s 8ms/step - loss: 1.6001 - accuracy: 0.9405 - val_loss: 1.7822 - val_accuracy: 0.9556\n",
      "Epoch 62/95\n",
      "10/10 [==============================] - 0s 7ms/step - loss: 2.0971 - accuracy: 0.9452 - val_loss: 1.8027 - val_accuracy: 0.9556\n",
      "Epoch 63/95\n",
      "10/10 [==============================] - 0s 8ms/step - loss: 1.7247 - accuracy: 0.9443 - val_loss: 1.7858 - val_accuracy: 0.9556\n",
      "Epoch 64/95\n",
      "10/10 [==============================] - 0s 7ms/step - loss: 1.9249 - accuracy: 0.9309 - val_loss: 1.8020 - val_accuracy: 0.9556\n",
      "Epoch 65/95\n",
      "10/10 [==============================] - 0s 8ms/step - loss: 1.7651 - accuracy: 0.9531 - val_loss: 1.7960 - val_accuracy: 0.9556\n",
      "Epoch 66/95\n",
      "10/10 [==============================] - 0s 9ms/step - loss: 1.7889 - accuracy: 0.9392 - val_loss: 1.7915 - val_accuracy: 0.9556\n",
      "Epoch 67/95\n",
      "10/10 [==============================] - 0s 8ms/step - loss: 1.9837 - accuracy: 0.9391 - val_loss: 1.7895 - val_accuracy: 0.9556\n",
      "Epoch 68/95\n",
      "10/10 [==============================] - 0s 10ms/step - loss: 1.8873 - accuracy: 0.9271 - val_loss: 1.7771 - val_accuracy: 0.9556\n",
      "Epoch 69/95\n",
      "10/10 [==============================] - 0s 9ms/step - loss: 1.8431 - accuracy: 0.9311 - val_loss: 1.7701 - val_accuracy: 0.9556\n",
      "Epoch 70/95\n",
      "10/10 [==============================] - 0s 10ms/step - loss: 1.7156 - accuracy: 0.9183 - val_loss: 1.7845 - val_accuracy: 0.9556\n",
      "Epoch 71/95\n",
      "10/10 [==============================] - 0s 9ms/step - loss: 1.7356 - accuracy: 0.9390 - val_loss: 1.7849 - val_accuracy: 0.9556\n",
      "Epoch 72/95\n",
      "10/10 [==============================] - 0s 10ms/step - loss: 1.8032 - accuracy: 0.9532 - val_loss: 1.7883 - val_accuracy: 0.9556\n",
      "Epoch 73/95\n",
      "10/10 [==============================] - 0s 9ms/step - loss: 1.6978 - accuracy: 0.9340 - val_loss: 1.7848 - val_accuracy: 0.9556\n",
      "Epoch 74/95\n",
      "10/10 [==============================] - 0s 10ms/step - loss: 1.7019 - accuracy: 0.9347 - val_loss: 1.7842 - val_accuracy: 0.9556\n",
      "Epoch 75/95\n",
      "10/10 [==============================] - 0s 10ms/step - loss: 1.7429 - accuracy: 0.9302 - val_loss: 1.7804 - val_accuracy: 0.9556\n",
      "Epoch 76/95\n",
      "10/10 [==============================] - 0s 10ms/step - loss: 1.6655 - accuracy: 0.9344 - val_loss: 1.7796 - val_accuracy: 0.9556\n",
      "Epoch 77/95\n",
      "10/10 [==============================] - 0s 10ms/step - loss: 1.8507 - accuracy: 0.9485 - val_loss: 1.7878 - val_accuracy: 0.9556\n",
      "Epoch 78/95\n",
      "10/10 [==============================] - 0s 10ms/step - loss: 1.5896 - accuracy: 0.9352 - val_loss: 1.7825 - val_accuracy: 0.9556\n",
      "Epoch 79/95\n",
      "10/10 [==============================] - 0s 11ms/step - loss: 1.8408 - accuracy: 0.9567 - val_loss: 1.7939 - val_accuracy: 0.9556\n",
      "Epoch 80/95\n",
      "10/10 [==============================] - 0s 11ms/step - loss: 1.7424 - accuracy: 0.9588 - val_loss: 1.7867 - val_accuracy: 0.9556\n",
      "Epoch 81/95\n",
      "10/10 [==============================] - 0s 10ms/step - loss: 1.6413 - accuracy: 0.7861 - val_loss: 1.7723 - val_accuracy: 0.9556\n",
      "Epoch 82/95\n",
      "10/10 [==============================] - 0s 10ms/step - loss: 1.6611 - accuracy: 0.9578 - val_loss: 1.7767 - val_accuracy: 0.9556\n",
      "Epoch 83/95\n",
      "10/10 [==============================] - 0s 10ms/step - loss: 1.6577 - accuracy: 0.9413 - val_loss: 1.7854 - val_accuracy: 0.9556\n",
      "Epoch 84/95\n",
      "10/10 [==============================] - 0s 10ms/step - loss: 1.6463 - accuracy: 0.9332 - val_loss: 1.7755 - val_accuracy: 0.3111\n",
      "Epoch 85/95\n",
      "10/10 [==============================] - 0s 10ms/step - loss: 1.8505 - accuracy: 0.7002 - val_loss: 1.7767 - val_accuracy: 0.9556\n",
      "Epoch 86/95\n",
      "10/10 [==============================] - 0s 9ms/step - loss: 1.7703 - accuracy: 0.8407 - val_loss: 1.7702 - val_accuracy: 0.9556\n",
      "Epoch 87/95\n",
      "10/10 [==============================] - 0s 10ms/step - loss: 1.5268 - accuracy: 0.9395 - val_loss: 1.7811 - val_accuracy: 0.9556\n",
      "Epoch 88/95\n",
      "10/10 [==============================] - 0s 9ms/step - loss: 1.5093 - accuracy: 0.9334 - val_loss: 1.7838 - val_accuracy: 0.9556\n",
      "Epoch 89/95\n",
      "10/10 [==============================] - 0s 10ms/step - loss: 1.5194 - accuracy: 0.9533 - val_loss: 1.7796 - val_accuracy: 0.9556\n",
      "Epoch 90/95\n",
      "10/10 [==============================] - 0s 9ms/step - loss: 1.7094 - accuracy: 0.9481 - val_loss: 1.7967 - val_accuracy: 0.9556\n",
      "Epoch 91/95\n",
      "10/10 [==============================] - 0s 10ms/step - loss: 1.6432 - accuracy: 0.8069 - val_loss: 1.7698 - val_accuracy: 0.3111\n",
      "Epoch 92/95\n",
      "10/10 [==============================] - 0s 10ms/step - loss: 1.7774 - accuracy: 0.7056 - val_loss: 1.7736 - val_accuracy: 0.9556\n",
      "Epoch 93/95\n",
      "10/10 [==============================] - 0s 10ms/step - loss: 1.7684 - accuracy: 0.9317 - val_loss: 1.7891 - val_accuracy: 0.9556\n",
      "Epoch 94/95\n",
      "10/10 [==============================] - 0s 10ms/step - loss: 1.7031 - accuracy: 0.9481 - val_loss: 1.7875 - val_accuracy: 0.9556\n",
      "Epoch 95/95\n",
      "10/10 [==============================] - 0s 10ms/step - loss: 1.8268 - accuracy: 0.9347 - val_loss: 1.7788 - val_accuracy: 0.9556\n"
     ]
    }
   ],
   "source": [
    "model.compile(loss=\"mse\", optimizer=\"adam\", metrics=[\"accuracy\"])\n",
    "history = model.fit(X_train, Y_train, validation_data=(X_val, Y_val), epochs=95)"
   ]
  },
  {
   "cell_type": "code",
   "execution_count": 24,
   "metadata": {
    "colab": {
     "base_uri": "https://localhost:8080/"
    },
    "execution": {
     "iopub.execute_input": "2021-02-26T09:51:02.757506Z",
     "iopub.status.busy": "2021-02-26T09:51:02.756842Z",
     "iopub.status.idle": "2021-02-26T09:51:02.898156Z",
     "shell.execute_reply": "2021-02-26T09:51:02.896595Z"
    },
    "id": "rnhjgUAc9Amz",
    "outputId": "d6767fb0-41f4-4ea1-b1f2-87b2c4430dbe",
    "papermill": {
     "duration": 0.368558,
     "end_time": "2021-02-26T09:51:02.898493",
     "exception": false,
     "start_time": "2021-02-26T09:51:02.529935",
     "status": "completed"
    },
    "tags": []
   },
   "outputs": [
    {
     "name": "stdout",
     "output_type": "stream",
     "text": [
      "2/2 [==============================] - 0s 4ms/step - loss: 1.7788 - accuracy: 0.9556\n",
      "Validation loss: 1.7788, Validation accuracy: 0.9556\n",
      "1/1 [==============================] - 0s 25ms/step - loss: 2.6364 - accuracy: 0.9500\n",
      "Final loss: 2.6364, final accuracy: 0.95\n"
     ]
    }
   ],
   "source": [
    "validation_loss, validation_accuracy = model.evaluate(X_val, Y_val)\n",
    "print(\"Validation loss: {0:.4f}, Validation accuracy: {1:.4}\".format(validation_loss, validation_accuracy))\n",
    "\n",
    "test_loss, test_accuracy = model.evaluate(X_test, Y_test)\n",
    "print(\"Final loss: {0:.4f}, final accuracy: {1:.4}\".format(test_loss, test_accuracy))"
   ]
  },
  {
   "cell_type": "code",
   "execution_count": 25,
   "metadata": {
    "colab": {
     "base_uri": "https://localhost:8080/",
     "height": 573
    },
    "execution": {
     "iopub.execute_input": "2021-02-26T09:51:03.626363Z",
     "iopub.status.busy": "2021-02-26T09:51:03.610396Z",
     "iopub.status.idle": "2021-02-26T09:51:03.966199Z",
     "shell.execute_reply": "2021-02-26T09:51:03.965564Z"
    },
    "id": "iZ4fjdLv9Amz",
    "outputId": "de3186b0-6757-4a47-e565-1f00c420028a",
    "papermill": {
     "duration": 0.714976,
     "end_time": "2021-02-26T09:51:03.966367",
     "exception": false,
     "start_time": "2021-02-26T09:51:03.251391",
     "status": "completed"
    },
    "tags": []
   },
   "outputs": [
    {
     "data": {
      "image/png": "[encoded data removed]",
      "text/plain": [
       "<Figure size 432x288 with 1 Axes>"
      ]
     },
     "metadata": {
      "needs_background": "light"
     },
     "output_type": "display_data"
    },
    {
     "data": {
      "image/png": "[encoded data removed]",
      "text/plain": [
       "<Figure size 432x288 with 1 Axes>"
      ]
     },
     "metadata": {
      "needs_background": "light"
     },
     "output_type": "display_data"
    }
   ],
   "source": [
    "import matplotlib.pyplot as plt\n",
    "\n",
    "plt.plot(history.history['accuracy'], label='train')\n",
    "plt.plot(history.history['val_accuracy'], label='test')\n",
    "plt.legend(loc='upper right')\n",
    "plt.title('Model Accuracy')\n",
    "plt.ylabel('Accuracy')\n",
    "plt.xlabel('Epoch')\n",
    "plt.show()\n",
    "\n",
    "plt.plot(history.history['loss'], label='train')\n",
    "plt.plot(history.history['val_loss'], label='test')\n",
    "plt.legend(loc='upper right')\n",
    "plt.title('Model loss')\n",
    "plt.ylabel('loss')\n",
    "plt.xlabel('Epoch')\n",
    "plt.show()"
   ]
  },
  {
   "cell_type": "code",
   "execution_count": 26,
   "metadata": {
    "id": "1dAz7qr79Amz"
   },
   "outputs": [],
   "source": [
    "model = keras.Sequential()\n",
    "model.add(layers.SimpleRNN(10, return_sequences=True))\n",
    "model.add(layers.SimpleRNN(25, return_sequences=True))\n",
    "model.add(layers.SimpleRNN(25))\n",
    "model.add(layers.Dense(3))"
   ]
  },
  {
   "cell_type": "code",
   "execution_count": 27,
   "metadata": {
    "colab": {
     "base_uri": "https://localhost:8080/"
    },
    "id": "b3mBHw1b9Amz",
    "outputId": "cff422dc-9a10-467a-c770-3cfce1977eed"
   },
   "outputs": [
    {
     "name": "stdout",
     "output_type": "stream",
     "text": [
      "Epoch 1/95\n",
      "10/10 [==============================] - 3s 54ms/step - loss: 2.2843 - accuracy: 0.5240 - val_loss: 1.8170 - val_accuracy: 0.9556\n",
      "Epoch 2/95\n",
      "10/10 [==============================] - 0s 7ms/step - loss: 1.6022 - accuracy: 0.9385 - val_loss: 1.8911 - val_accuracy: 0.9333\n",
      "Epoch 3/95\n",
      "10/10 [==============================] - 0s 7ms/step - loss: 1.6696 - accuracy: 0.4182 - val_loss: 1.8653 - val_accuracy: 0.9333\n",
      "Epoch 4/95\n",
      "10/10 [==============================] - 0s 7ms/step - loss: 1.8205 - accuracy: 0.9360 - val_loss: 1.8483 - val_accuracy: 0.9556\n",
      "Epoch 5/95\n",
      "10/10 [==============================] - 0s 7ms/step - loss: 1.9504 - accuracy: 0.9443 - val_loss: 1.8290 - val_accuracy: 0.9333\n",
      "Epoch 6/95\n",
      "10/10 [==============================] - 0s 8ms/step - loss: 1.8765 - accuracy: 0.9278 - val_loss: 1.8399 - val_accuracy: 0.9556\n",
      "Epoch 7/95\n",
      "10/10 [==============================] - 0s 7ms/step - loss: 1.8896 - accuracy: 0.9540 - val_loss: 1.8263 - val_accuracy: 0.9333\n",
      "Epoch 8/95\n",
      "10/10 [==============================] - 0s 7ms/step - loss: 1.8773 - accuracy: 0.9205 - val_loss: 1.8181 - val_accuracy: 0.9333\n",
      "Epoch 9/95\n",
      "10/10 [==============================] - 0s 7ms/step - loss: 1.7880 - accuracy: 0.9406 - val_loss: 1.8378 - val_accuracy: 0.9556\n",
      "Epoch 10/95\n",
      "10/10 [==============================] - 0s 8ms/step - loss: 2.0531 - accuracy: 0.9371 - val_loss: 1.8474 - val_accuracy: 0.9333\n",
      "Epoch 11/95\n",
      "10/10 [==============================] - 0s 7ms/step - loss: 1.8165 - accuracy: 0.9204 - val_loss: 1.8188 - val_accuracy: 0.9333\n",
      "Epoch 12/95\n",
      "10/10 [==============================] - 0s 7ms/step - loss: 1.6326 - accuracy: 0.9382 - val_loss: 1.8206 - val_accuracy: 0.9333\n",
      "Epoch 13/95\n",
      "10/10 [==============================] - 0s 8ms/step - loss: 1.7337 - accuracy: 0.9268 - val_loss: 1.8226 - val_accuracy: 0.9333\n",
      "Epoch 14/95\n",
      "10/10 [==============================] - 0s 8ms/step - loss: 1.9290 - accuracy: 0.9431 - val_loss: 1.8408 - val_accuracy: 0.9333\n",
      "Epoch 15/95\n",
      "10/10 [==============================] - 0s 7ms/step - loss: 1.7860 - accuracy: 0.9245 - val_loss: 1.8369 - val_accuracy: 0.9333\n",
      "Epoch 16/95\n",
      "10/10 [==============================] - 0s 8ms/step - loss: 1.8677 - accuracy: 0.9439 - val_loss: 1.8270 - val_accuracy: 0.9333\n",
      "Epoch 17/95\n",
      "10/10 [==============================] - 0s 10ms/step - loss: 1.8842 - accuracy: 0.9476 - val_loss: 1.8326 - val_accuracy: 0.9333\n",
      "Epoch 18/95\n",
      "10/10 [==============================] - 0s 10ms/step - loss: 1.8755 - accuracy: 0.9329 - val_loss: 1.8297 - val_accuracy: 0.9333\n",
      "Epoch 19/95\n",
      "10/10 [==============================] - 0s 12ms/step - loss: 1.7507 - accuracy: 0.5529 - val_loss: 1.8190 - val_accuracy: 0.9333\n",
      "Epoch 20/95\n",
      "10/10 [==============================] - 0s 13ms/step - loss: 1.8942 - accuracy: 0.9557 - val_loss: 1.8395 - val_accuracy: 0.9333\n",
      "Epoch 21/95\n",
      "10/10 [==============================] - 0s 12ms/step - loss: 1.6064 - accuracy: 0.4615 - val_loss: 1.8299 - val_accuracy: 0.0444\n",
      "Epoch 22/95\n",
      "10/10 [==============================] - 0s 13ms/step - loss: 1.6961 - accuracy: 0.6970 - val_loss: 1.8304 - val_accuracy: 0.9556\n",
      "Epoch 23/95\n",
      "10/10 [==============================] - 0s 12ms/step - loss: 1.9169 - accuracy: 0.8389 - val_loss: 1.8299 - val_accuracy: 0.0444\n",
      "Epoch 24/95\n",
      "10/10 [==============================] - 0s 13ms/step - loss: 1.7007 - accuracy: 0.5325 - val_loss: 1.8378 - val_accuracy: 0.9556\n",
      "Epoch 25/95\n",
      "10/10 [==============================] - 0s 12ms/step - loss: 1.8881 - accuracy: 0.9321 - val_loss: 1.8286 - val_accuracy: 0.9333\n",
      "Epoch 26/95\n",
      "10/10 [==============================] - 0s 11ms/step - loss: 1.8494 - accuracy: 0.9489 - val_loss: 1.8402 - val_accuracy: 0.9333\n",
      "Epoch 27/95\n",
      "10/10 [==============================] - 0s 13ms/step - loss: 1.7593 - accuracy: 0.9443 - val_loss: 1.8148 - val_accuracy: 0.9333\n",
      "Epoch 28/95\n",
      "10/10 [==============================] - 0s 12ms/step - loss: 1.8652 - accuracy: 0.9362 - val_loss: 1.8302 - val_accuracy: 0.9333\n",
      "Epoch 29/95\n",
      "10/10 [==============================] - 0s 12ms/step - loss: 2.0161 - accuracy: 0.9285 - val_loss: 1.8426 - val_accuracy: 0.9333\n",
      "Epoch 30/95\n",
      "10/10 [==============================] - 0s 10ms/step - loss: 1.8145 - accuracy: 0.9212 - val_loss: 1.8221 - val_accuracy: 0.9333\n",
      "Epoch 31/95\n",
      "10/10 [==============================] - 0s 13ms/step - loss: 1.7351 - accuracy: 0.9546 - val_loss: 1.8171 - val_accuracy: 0.9333\n",
      "Epoch 32/95\n",
      "10/10 [==============================] - 0s 12ms/step - loss: 1.7613 - accuracy: 0.9503 - val_loss: 1.8260 - val_accuracy: 0.9333\n",
      "Epoch 33/95\n",
      "10/10 [==============================] - 0s 10ms/step - loss: 1.6426 - accuracy: 0.9301 - val_loss: 1.8222 - val_accuracy: 0.9333\n",
      "Epoch 34/95\n",
      "10/10 [==============================] - 0s 8ms/step - loss: 2.1071 - accuracy: 0.9285 - val_loss: 1.8464 - val_accuracy: 0.9333\n",
      "Epoch 35/95\n",
      "10/10 [==============================] - 0s 8ms/step - loss: 1.6550 - accuracy: 0.9300 - val_loss: 1.8140 - val_accuracy: 0.9333\n",
      "Epoch 36/95\n",
      "10/10 [==============================] - 0s 8ms/step - loss: 1.7674 - accuracy: 0.9279 - val_loss: 1.8252 - val_accuracy: 0.9333\n",
      "Epoch 37/95\n",
      "10/10 [==============================] - 0s 8ms/step - loss: 1.7509 - accuracy: 0.9163 - val_loss: 1.8548 - val_accuracy: 0.9333\n",
      "Epoch 38/95\n",
      "10/10 [==============================] - 0s 7ms/step - loss: 1.7785 - accuracy: 0.9246 - val_loss: 1.8313 - val_accuracy: 0.9333\n",
      "Epoch 39/95\n",
      "10/10 [==============================] - 0s 7ms/step - loss: 1.7277 - accuracy: 0.9400 - val_loss: 1.8242 - val_accuracy: 0.9333\n",
      "Epoch 40/95\n",
      "10/10 [==============================] - 0s 8ms/step - loss: 1.7757 - accuracy: 0.8337 - val_loss: 1.8275 - val_accuracy: 0.9333\n",
      "Epoch 41/95\n",
      "10/10 [==============================] - 0s 7ms/step - loss: 1.7324 - accuracy: 0.4602 - val_loss: 1.8182 - val_accuracy: 0.9333\n",
      "Epoch 42/95\n",
      "10/10 [==============================] - 0s 8ms/step - loss: 1.9682 - accuracy: 0.9338 - val_loss: 1.8378 - val_accuracy: 0.9333\n",
      "Epoch 43/95\n",
      "10/10 [==============================] - 0s 7ms/step - loss: 1.7304 - accuracy: 0.9258 - val_loss: 1.8265 - val_accuracy: 0.9333\n",
      "Epoch 44/95\n",
      "10/10 [==============================] - 0s 7ms/step - loss: 1.9533 - accuracy: 0.9357 - val_loss: 1.8411 - val_accuracy: 0.9333\n",
      "Epoch 45/95\n",
      "10/10 [==============================] - 0s 8ms/step - loss: 1.8892 - accuracy: 0.9268 - val_loss: 1.8283 - val_accuracy: 0.9333\n",
      "Epoch 46/95\n",
      "10/10 [==============================] - 0s 7ms/step - loss: 1.5814 - accuracy: 0.9365 - val_loss: 1.8059 - val_accuracy: 0.9333\n",
      "Epoch 47/95\n",
      "10/10 [==============================] - 0s 7ms/step - loss: 1.5635 - accuracy: 0.9033 - val_loss: 1.8333 - val_accuracy: 0.9333\n",
      "Epoch 48/95\n",
      "10/10 [==============================] - 0s 7ms/step - loss: 1.5945 - accuracy: 0.9374 - val_loss: 1.8312 - val_accuracy: 0.9333\n",
      "Epoch 49/95\n",
      "10/10 [==============================] - 0s 8ms/step - loss: 1.8229 - accuracy: 0.9306 - val_loss: 1.8269 - val_accuracy: 0.9333\n",
      "Epoch 50/95\n",
      "10/10 [==============================] - 0s 7ms/step - loss: 1.7392 - accuracy: 0.9206 - val_loss: 1.8275 - val_accuracy: 0.9333\n",
      "Epoch 51/95\n",
      "10/10 [==============================] - 0s 8ms/step - loss: 1.7254 - accuracy: 0.9342 - val_loss: 1.8350 - val_accuracy: 0.9333\n",
      "Epoch 52/95\n",
      "10/10 [==============================] - 0s 7ms/step - loss: 1.6670 - accuracy: 0.9248 - val_loss: 1.8181 - val_accuracy: 0.9333\n",
      "Epoch 53/95\n",
      "10/10 [==============================] - 0s 7ms/step - loss: 1.5536 - accuracy: 0.9246 - val_loss: 1.8286 - val_accuracy: 0.9333\n",
      "Epoch 54/95\n",
      "10/10 [==============================] - 0s 8ms/step - loss: 1.8884 - accuracy: 0.9352 - val_loss: 1.8184 - val_accuracy: 0.9333\n",
      "Epoch 55/95\n",
      "10/10 [==============================] - 0s 8ms/step - loss: 1.8191 - accuracy: 0.4460 - val_loss: 1.8202 - val_accuracy: 0.9333\n",
      "Epoch 56/95\n",
      "10/10 [==============================] - 0s 7ms/step - loss: 1.8196 - accuracy: 0.9121 - val_loss: 1.8413 - val_accuracy: 0.9556\n",
      "Epoch 57/95\n",
      "10/10 [==============================] - 0s 7ms/step - loss: 1.6761 - accuracy: 0.9490 - val_loss: 1.8286 - val_accuracy: 0.9333\n",
      "Epoch 58/95\n",
      "10/10 [==============================] - 0s 7ms/step - loss: 1.6497 - accuracy: 0.4962 - val_loss: 1.8416 - val_accuracy: 0.9333\n",
      "Epoch 59/95\n",
      "10/10 [==============================] - 0s 7ms/step - loss: 1.7616 - accuracy: 0.9208 - val_loss: 1.8364 - val_accuracy: 0.9333\n",
      "Epoch 60/95\n",
      "10/10 [==============================] - 0s 7ms/step - loss: 1.8422 - accuracy: 0.9284 - val_loss: 1.8109 - val_accuracy: 0.9333\n",
      "Epoch 61/95\n",
      "10/10 [==============================] - 0s 7ms/step - loss: 1.6252 - accuracy: 0.9369 - val_loss: 1.8072 - val_accuracy: 0.9333\n",
      "Epoch 62/95\n",
      "10/10 [==============================] - 0s 7ms/step - loss: 2.1111 - accuracy: 0.9307 - val_loss: 1.8463 - val_accuracy: 0.9333\n",
      "Epoch 63/95\n",
      "10/10 [==============================] - 0s 7ms/step - loss: 1.7504 - accuracy: 0.9434 - val_loss: 1.8189 - val_accuracy: 0.9333\n",
      "Epoch 64/95\n",
      "10/10 [==============================] - 0s 7ms/step - loss: 1.9620 - accuracy: 0.9244 - val_loss: 1.8409 - val_accuracy: 0.9333\n",
      "Epoch 65/95\n",
      "10/10 [==============================] - 0s 7ms/step - loss: 1.7914 - accuracy: 0.9435 - val_loss: 1.8298 - val_accuracy: 0.9333\n",
      "Epoch 66/95\n",
      "10/10 [==============================] - 0s 7ms/step - loss: 1.8091 - accuracy: 0.9344 - val_loss: 1.8195 - val_accuracy: 0.9333\n",
      "Epoch 67/95\n",
      "10/10 [==============================] - 0s 7ms/step - loss: 2.0160 - accuracy: 0.9342 - val_loss: 1.8194 - val_accuracy: 0.9333\n",
      "Epoch 68/95\n",
      "10/10 [==============================] - 0s 7ms/step - loss: 1.9086 - accuracy: 0.9214 - val_loss: 1.8099 - val_accuracy: 0.9333\n",
      "Epoch 69/95\n",
      "10/10 [==============================] - 0s 7ms/step - loss: 1.8659 - accuracy: 0.9132 - val_loss: 1.8046 - val_accuracy: 0.9333\n",
      "Epoch 70/95\n",
      "10/10 [==============================] - 0s 7ms/step - loss: 1.7527 - accuracy: 0.9088 - val_loss: 1.8288 - val_accuracy: 0.9333\n",
      "Epoch 71/95\n",
      "10/10 [==============================] - 0s 7ms/step - loss: 1.7726 - accuracy: 0.9314 - val_loss: 1.8294 - val_accuracy: 0.9333\n",
      "Epoch 72/95\n",
      "10/10 [==============================] - 0s 7ms/step - loss: 1.8075 - accuracy: 0.9496 - val_loss: 1.8273 - val_accuracy: 0.9333\n",
      "Epoch 73/95\n",
      "10/10 [==============================] - 0s 7ms/step - loss: 1.7400 - accuracy: 0.9217 - val_loss: 1.8152 - val_accuracy: 0.9333\n",
      "Epoch 74/95\n",
      "10/10 [==============================] - 0s 7ms/step - loss: 1.7449 - accuracy: 0.9288 - val_loss: 1.8203 - val_accuracy: 0.9333\n",
      "Epoch 75/95\n",
      "10/10 [==============================] - 0s 8ms/step - loss: 1.7773 - accuracy: 0.9144 - val_loss: 1.8216 - val_accuracy: 0.9333\n",
      "Epoch 76/95\n",
      "10/10 [==============================] - 0s 10ms/step - loss: 1.7019 - accuracy: 0.9228 - val_loss: 1.8189 - val_accuracy: 0.9333\n",
      "Epoch 77/95\n",
      "10/10 [==============================] - 0s 12ms/step - loss: 1.8882 - accuracy: 0.9356 - val_loss: 1.8292 - val_accuracy: 0.9333\n",
      "Epoch 78/95\n",
      "10/10 [==============================] - 0s 11ms/step - loss: 1.6410 - accuracy: 0.9272 - val_loss: 1.8197 - val_accuracy: 0.9333\n",
      "Epoch 79/95\n",
      "10/10 [==============================] - 0s 8ms/step - loss: 1.8647 - accuracy: 0.4766 - val_loss: 1.8293 - val_accuracy: 0.0444\n",
      "Epoch 80/95\n",
      "10/10 [==============================] - 0s 8ms/step - loss: 1.7915 - accuracy: 0.6764 - val_loss: 1.8228 - val_accuracy: 0.9556\n",
      "Epoch 81/95\n",
      "10/10 [==============================] - 0s 8ms/step - loss: 1.6803 - accuracy: 0.7258 - val_loss: 1.8116 - val_accuracy: 0.9333\n",
      "Epoch 82/95\n",
      "10/10 [==============================] - 0s 7ms/step - loss: 1.7250 - accuracy: 0.9390 - val_loss: 1.8192 - val_accuracy: 0.9333\n",
      "Epoch 83/95\n",
      "10/10 [==============================] - 0s 7ms/step - loss: 1.7274 - accuracy: 0.6016 - val_loss: 1.8253 - val_accuracy: 0.9333\n",
      "Epoch 84/95\n",
      "10/10 [==============================] - 0s 7ms/step - loss: 1.7132 - accuracy: 0.7881 - val_loss: 1.8174 - val_accuracy: 0.9333\n",
      "Epoch 85/95\n",
      "10/10 [==============================] - 0s 7ms/step - loss: 1.8931 - accuracy: 0.9266 - val_loss: 1.8187 - val_accuracy: 0.9333\n",
      "Epoch 86/95\n",
      "10/10 [==============================] - 0s 7ms/step - loss: 1.8307 - accuracy: 0.9264 - val_loss: 1.8078 - val_accuracy: 0.9333\n",
      "Epoch 87/95\n",
      "10/10 [==============================] - 0s 7ms/step - loss: 1.5867 - accuracy: 0.9454 - val_loss: 1.8225 - val_accuracy: 0.9333\n",
      "Epoch 88/95\n",
      "10/10 [==============================] - 0s 7ms/step - loss: 1.5726 - accuracy: 0.5682 - val_loss: 1.8252 - val_accuracy: 0.9333\n",
      "Epoch 89/95\n",
      "10/10 [==============================] - 0s 7ms/step - loss: 1.5579 - accuracy: 0.9446 - val_loss: 1.8198 - val_accuracy: 0.9333\n",
      "Epoch 90/95\n",
      "10/10 [==============================] - ETA: 0s - loss: 1.8714 - accuracy: 0.93 - 0s 7ms/step - loss: 1.7667 - accuracy: 0.7110 - val_loss: 1.8398 - val_accuracy: 0.9333\n",
      "Epoch 91/95\n",
      "10/10 [==============================] - 0s 7ms/step - loss: 1.6924 - accuracy: 0.9296 - val_loss: 1.8143 - val_accuracy: 0.9556\n",
      "Epoch 92/95\n",
      "10/10 [==============================] - 0s 9ms/step - loss: 1.8226 - accuracy: 0.9260 - val_loss: 1.8108 - val_accuracy: 0.9333\n",
      "Epoch 93/95\n",
      "10/10 [==============================] - 0s 8ms/step - loss: 1.8118 - accuracy: 0.9233 - val_loss: 1.8296 - val_accuracy: 0.9333\n",
      "Epoch 94/95\n",
      "10/10 [==============================] - 0s 8ms/step - loss: 1.7783 - accuracy: 0.9282 - val_loss: 1.8378 - val_accuracy: 0.9556\n",
      "Epoch 95/95\n",
      "10/10 [==============================] - 0s 9ms/step - loss: 1.8761 - accuracy: 0.9410 - val_loss: 1.8215 - val_accuracy: 0.9333\n"
     ]
    }
   ],
   "source": [
    "model.compile(loss=\"mse\", optimizer=\"adam\", metrics=[\"accuracy\"])\n",
    "history = model.fit(X_train, Y_train, validation_data=(X_val, Y_val), epochs=95)"
   ]
  },
  {
   "cell_type": "code",
   "execution_count": 28,
   "metadata": {
    "colab": {
     "base_uri": "https://localhost:8080/"
    },
    "id": "o6hx7d4p9Am0",
    "outputId": "82d72d30-3e99-48cb-f402-ad90049763a8"
   },
   "outputs": [
    {
     "name": "stdout",
     "output_type": "stream",
     "text": [
      "2/2 [==============================] - 0s 3ms/step - loss: 1.8215 - accuracy: 0.9333\n",
      "Validation loss: 1.8215, Validation accuracy: 0.9333\n",
      "1/1 [==============================] - 0s 26ms/step - loss: 2.4688 - accuracy: 0.9000\n",
      "Final loss: 2.4688, final accuracy: 0.9\n"
     ]
    }
   ],
   "source": [
    "validation_loss, validation_accuracy = model.evaluate(X_val, Y_val)\n",
    "print(\"Validation loss: {0:.4f}, Validation accuracy: {1:.4}\".format(validation_loss, validation_accuracy))\n",
    "\n",
    "test_loss, test_accuracy = model.evaluate(X_test, Y_test)\n",
    "print(\"Final loss: {0:.4f}, final accuracy: {1:.4}\".format(test_loss, test_accuracy))"
   ]
  },
  {
   "cell_type": "code",
   "execution_count": 29,
   "metadata": {
    "colab": {
     "base_uri": "https://localhost:8080/",
     "height": 573
    },
    "id": "8N7SILUk9Am0",
    "outputId": "20dafd38-d0cc-43a0-ce6f-69f62da8ff3d"
   },
   "outputs": [
    {
     "data": {
      "image/png": "[encoded data removed]",
      "text/plain": [
       "<Figure size 432x288 with 1 Axes>"
      ]
     },
     "metadata": {
      "needs_background": "light"
     },
     "output_type": "display_data"
    },
    {
     "data": {
      "image/png": "[encoded data removed]",
      "text/plain": [
       "<Figure size 432x288 with 1 Axes>"
      ]
     },
     "metadata": {
      "needs_background": "light"
     },
     "output_type": "display_data"
    }
   ],
   "source": [
    "import matplotlib.pyplot as plt\n",
    "\n",
    "plt.plot(history.history['accuracy'], label='train')\n",
    "plt.plot(history.history['val_accuracy'], label='test')\n",
    "plt.legend(loc='upper right')\n",
    "plt.title('Model Accuracy')\n",
    "plt.ylabel('Accuracy')\n",
    "plt.xlabel('Epoch')\n",
    "plt.show()\n",
    "\n",
    "plt.plot(history.history['loss'], label='train')\n",
    "plt.plot(history.history['val_loss'], label='test')\n",
    "plt.legend(loc='upper right')\n",
    "plt.title('Model loss')\n",
    "plt.ylabel('loss')\n",
    "plt.xlabel('Epoch')\n",
    "plt.show()"
   ]
  },
  {
   "cell_type": "code",
   "execution_count": 30,
   "metadata": {
    "colab": {
     "base_uri": "https://localhost:8080/",
     "height": 734
    },
    "execution": {
     "iopub.execute_input": "2021-02-26T09:51:04.439404Z",
     "iopub.status.busy": "2021-02-26T09:51:04.43813Z",
     "iopub.status.idle": "2021-02-26T09:51:04.595456Z",
     "shell.execute_reply": "2021-02-26T09:51:04.594745Z"
    },
    "id": "VyjPRKPn9Am0",
    "outputId": "84e59052-6796-48f1-fa66-885396464e16",
    "papermill": {
     "duration": 0.401994,
     "end_time": "2021-02-26T09:51:04.595605",
     "exception": false,
     "start_time": "2021-02-26T09:51:04.193611",
     "status": "completed"
    },
    "tags": []
   },
   "outputs": [
    {
     "ename": "ValueError",
     "evalue": "in user code:\n\n    c:\\users\\shrav\\appdata\\local\\programs\\python\\python38\\lib\\site-packages\\tensorflow\\python\\keras\\engine\\training.py:1478 predict_function  *\n        return step_function(self, iterator)\n    c:\\users\\shrav\\appdata\\local\\programs\\python\\python38\\lib\\site-packages\\tensorflow\\python\\keras\\engine\\training.py:1468 step_function  **\n        outputs = model.distribute_strategy.run(run_step, args=(data,))\n    c:\\users\\shrav\\appdata\\local\\programs\\python\\python38\\lib\\site-packages\\tensorflow\\python\\distribute\\distribute_lib.py:1259 run\n        return self._extended.call_for_each_replica(fn, args=args, kwargs=kwargs)\n    c:\\users\\shrav\\appdata\\local\\programs\\python\\python38\\lib\\site-packages\\tensorflow\\python\\distribute\\distribute_lib.py:2730 call_for_each_replica\n        return self._call_for_each_replica(fn, args, kwargs)\n    c:\\users\\shrav\\appdata\\local\\programs\\python\\python38\\lib\\site-packages\\tensorflow\\python\\distribute\\distribute_lib.py:3417 _call_for_each_replica\n        return fn(*args, **kwargs)\n    c:\\users\\shrav\\appdata\\local\\programs\\python\\python38\\lib\\site-packages\\tensorflow\\python\\keras\\engine\\training.py:1461 run_step  **\n        outputs = model.predict_step(data)\n    c:\\users\\shrav\\appdata\\local\\programs\\python\\python38\\lib\\site-packages\\tensorflow\\python\\keras\\engine\\training.py:1434 predict_step\n        return self(x, training=False)\n    c:\\users\\shrav\\appdata\\local\\programs\\python\\python38\\lib\\site-packages\\tensorflow\\python\\keras\\engine\\base_layer.py:998 __call__\n        input_spec.assert_input_compatibility(self.input_spec, inputs, self.name)\n    c:\\users\\shrav\\appdata\\local\\programs\\python\\python38\\lib\\site-packages\\tensorflow\\python\\keras\\engine\\input_spec.py:271 assert_input_compatibility\n        raise ValueError('Input ' + str(input_index) +\n\n    ValueError: Input 0 is incompatible with layer sequential_2: expected shape=(None, None, 5), found shape=(None, 1, 9)\n",
     "output_type": "error",
     "traceback": [
      "\u001b[1;31m---------------------------------------------------------------------------\u001b[0m",
      "\u001b[1;31mValueError\u001b[0m                                Traceback (most recent call last)",
      "\u001b[1;32m<ipython-input-30-d05421667730>\u001b[0m in \u001b[0;36m<module>\u001b[1;34m\u001b[0m\n\u001b[0;32m      1\u001b[0m \u001b[1;32mimport\u001b[0m \u001b[0msys\u001b[0m\u001b[1;33m\u001b[0m\u001b[1;33m\u001b[0m\u001b[0m\n\u001b[1;32m----> 2\u001b[1;33m \u001b[0mdata\u001b[0m\u001b[1;33m=\u001b[0m\u001b[0mmodel\u001b[0m\u001b[1;33m.\u001b[0m\u001b[0mpredict\u001b[0m\u001b[1;33m(\u001b[0m\u001b[0mnp\u001b[0m\u001b[1;33m.\u001b[0m\u001b[0marray\u001b[0m\u001b[1;33m(\u001b[0m\u001b[1;33m[\u001b[0m\u001b[0mfloat\u001b[0m\u001b[1;33m(\u001b[0m\u001b[1;36m28\u001b[0m\u001b[1;33m)\u001b[0m\u001b[1;33m,\u001b[0m\u001b[0mfloat\u001b[0m\u001b[1;33m(\u001b[0m\u001b[1;36m12\u001b[0m\u001b[1;33m)\u001b[0m\u001b[1;33m,\u001b[0m\u001b[0mfloat\u001b[0m\u001b[1;33m(\u001b[0m\u001b[1;36m29.33\u001b[0m\u001b[1;33m)\u001b[0m\u001b[1;33m,\u001b[0m\u001b[0mfloat\u001b[0m\u001b[1;33m(\u001b[0m\u001b[1;36m0.0\u001b[0m\u001b[1;33m)\u001b[0m\u001b[1;33m,\u001b[0m\u001b[0mfloat\u001b[0m\u001b[1;33m(\u001b[0m\u001b[1;36m136.8\u001b[0m\u001b[1;33m)\u001b[0m\u001b[1;33m,\u001b[0m\u001b[0mfloat\u001b[0m\u001b[1;33m(\u001b[0m\u001b[1;36m0.5\u001b[0m\u001b[1;33m)\u001b[0m\u001b[1;33m,\u001b[0m\u001b[0mfloat\u001b[0m\u001b[1;33m(\u001b[0m\u001b[1;36m0.333333333333\u001b[0m\u001b[1;33m)\u001b[0m\u001b[1;33m,\u001b[0m\u001b[0mfloat\u001b[0m\u001b[1;33m(\u001b[0m\u001b[1;36m0.25\u001b[0m\u001b[1;33m)\u001b[0m\u001b[1;33m,\u001b[0m\u001b[0mfloat\u001b[0m\u001b[1;33m(\u001b[0m\u001b[1;36m0.333333333333\u001b[0m\u001b[1;33m)\u001b[0m\u001b[1;33m]\u001b[0m\u001b[1;33m)\u001b[0m\u001b[1;33m.\u001b[0m\u001b[0mreshape\u001b[0m\u001b[1;33m(\u001b[0m\u001b[1;36m1\u001b[0m\u001b[1;33m,\u001b[0m \u001b[1;36m1\u001b[0m\u001b[1;33m,\u001b[0m \u001b[1;36m9\u001b[0m\u001b[1;33m)\u001b[0m\u001b[1;33m)\u001b[0m\u001b[1;33m\u001b[0m\u001b[1;33m\u001b[0m\u001b[0m\n\u001b[0m",
      "\u001b[1;32mc:\\users\\shrav\\appdata\\local\\programs\\python\\python38\\lib\\site-packages\\tensorflow\\python\\keras\\engine\\training.py\u001b[0m in \u001b[0;36mpredict\u001b[1;34m(self, x, batch_size, verbose, steps, callbacks, max_queue_size, workers, use_multiprocessing)\u001b[0m\n\u001b[0;32m   1627\u001b[0m           \u001b[1;32mfor\u001b[0m \u001b[0mstep\u001b[0m \u001b[1;32min\u001b[0m \u001b[0mdata_handler\u001b[0m\u001b[1;33m.\u001b[0m\u001b[0msteps\u001b[0m\u001b[1;33m(\u001b[0m\u001b[1;33m)\u001b[0m\u001b[1;33m:\u001b[0m\u001b[1;33m\u001b[0m\u001b[1;33m\u001b[0m\u001b[0m\n\u001b[0;32m   1628\u001b[0m             \u001b[0mcallbacks\u001b[0m\u001b[1;33m.\u001b[0m\u001b[0mon_predict_batch_begin\u001b[0m\u001b[1;33m(\u001b[0m\u001b[0mstep\u001b[0m\u001b[1;33m)\u001b[0m\u001b[1;33m\u001b[0m\u001b[1;33m\u001b[0m\u001b[0m\n\u001b[1;32m-> 1629\u001b[1;33m             \u001b[0mtmp_batch_outputs\u001b[0m \u001b[1;33m=\u001b[0m \u001b[0mself\u001b[0m\u001b[1;33m.\u001b[0m\u001b[0mpredict_function\u001b[0m\u001b[1;33m(\u001b[0m\u001b[0miterator\u001b[0m\u001b[1;33m)\u001b[0m\u001b[1;33m\u001b[0m\u001b[1;33m\u001b[0m\u001b[0m\n\u001b[0m\u001b[0;32m   1630\u001b[0m             \u001b[1;32mif\u001b[0m \u001b[0mdata_handler\u001b[0m\u001b[1;33m.\u001b[0m\u001b[0mshould_sync\u001b[0m\u001b[1;33m:\u001b[0m\u001b[1;33m\u001b[0m\u001b[1;33m\u001b[0m\u001b[0m\n\u001b[0;32m   1631\u001b[0m               \u001b[0mcontext\u001b[0m\u001b[1;33m.\u001b[0m\u001b[0masync_wait\u001b[0m\u001b[1;33m(\u001b[0m\u001b[1;33m)\u001b[0m\u001b[1;33m\u001b[0m\u001b[1;33m\u001b[0m\u001b[0m\n",
      "\u001b[1;32mc:\\users\\shrav\\appdata\\local\\programs\\python\\python38\\lib\\site-packages\\tensorflow\\python\\eager\\def_function.py\u001b[0m in \u001b[0;36m__call__\u001b[1;34m(self, *args, **kwds)\u001b[0m\n\u001b[0;32m    826\u001b[0m     \u001b[0mtracing_count\u001b[0m \u001b[1;33m=\u001b[0m \u001b[0mself\u001b[0m\u001b[1;33m.\u001b[0m\u001b[0mexperimental_get_tracing_count\u001b[0m\u001b[1;33m(\u001b[0m\u001b[1;33m)\u001b[0m\u001b[1;33m\u001b[0m\u001b[1;33m\u001b[0m\u001b[0m\n\u001b[0;32m    827\u001b[0m     \u001b[1;32mwith\u001b[0m \u001b[0mtrace\u001b[0m\u001b[1;33m.\u001b[0m\u001b[0mTrace\u001b[0m\u001b[1;33m(\u001b[0m\u001b[0mself\u001b[0m\u001b[1;33m.\u001b[0m\u001b[0m_name\u001b[0m\u001b[1;33m)\u001b[0m \u001b[1;32mas\u001b[0m \u001b[0mtm\u001b[0m\u001b[1;33m:\u001b[0m\u001b[1;33m\u001b[0m\u001b[1;33m\u001b[0m\u001b[0m\n\u001b[1;32m--> 828\u001b[1;33m       \u001b[0mresult\u001b[0m \u001b[1;33m=\u001b[0m \u001b[0mself\u001b[0m\u001b[1;33m.\u001b[0m\u001b[0m_call\u001b[0m\u001b[1;33m(\u001b[0m\u001b[1;33m*\u001b[0m\u001b[0margs\u001b[0m\u001b[1;33m,\u001b[0m \u001b[1;33m**\u001b[0m\u001b[0mkwds\u001b[0m\u001b[1;33m)\u001b[0m\u001b[1;33m\u001b[0m\u001b[1;33m\u001b[0m\u001b[0m\n\u001b[0m\u001b[0;32m    829\u001b[0m       \u001b[0mcompiler\u001b[0m \u001b[1;33m=\u001b[0m \u001b[1;34m\"xla\"\u001b[0m \u001b[1;32mif\u001b[0m \u001b[0mself\u001b[0m\u001b[1;33m.\u001b[0m\u001b[0m_experimental_compile\u001b[0m \u001b[1;32melse\u001b[0m \u001b[1;34m\"nonXla\"\u001b[0m\u001b[1;33m\u001b[0m\u001b[1;33m\u001b[0m\u001b[0m\n\u001b[0;32m    830\u001b[0m       \u001b[0mnew_tracing_count\u001b[0m \u001b[1;33m=\u001b[0m \u001b[0mself\u001b[0m\u001b[1;33m.\u001b[0m\u001b[0mexperimental_get_tracing_count\u001b[0m\u001b[1;33m(\u001b[0m\u001b[1;33m)\u001b[0m\u001b[1;33m\u001b[0m\u001b[1;33m\u001b[0m\u001b[0m\n",
      "\u001b[1;32mc:\\users\\shrav\\appdata\\local\\programs\\python\\python38\\lib\\site-packages\\tensorflow\\python\\eager\\def_function.py\u001b[0m in \u001b[0;36m_call\u001b[1;34m(self, *args, **kwds)\u001b[0m\n\u001b[0;32m    869\u001b[0m       \u001b[1;31m# This is the first call of __call__, so we have to initialize.\u001b[0m\u001b[1;33m\u001b[0m\u001b[1;33m\u001b[0m\u001b[1;33m\u001b[0m\u001b[0m\n\u001b[0;32m    870\u001b[0m       \u001b[0minitializers\u001b[0m \u001b[1;33m=\u001b[0m \u001b[1;33m[\u001b[0m\u001b[1;33m]\u001b[0m\u001b[1;33m\u001b[0m\u001b[1;33m\u001b[0m\u001b[0m\n\u001b[1;32m--> 871\u001b[1;33m       \u001b[0mself\u001b[0m\u001b[1;33m.\u001b[0m\u001b[0m_initialize\u001b[0m\u001b[1;33m(\u001b[0m\u001b[0margs\u001b[0m\u001b[1;33m,\u001b[0m \u001b[0mkwds\u001b[0m\u001b[1;33m,\u001b[0m \u001b[0madd_initializers_to\u001b[0m\u001b[1;33m=\u001b[0m\u001b[0minitializers\u001b[0m\u001b[1;33m)\u001b[0m\u001b[1;33m\u001b[0m\u001b[1;33m\u001b[0m\u001b[0m\n\u001b[0m\u001b[0;32m    872\u001b[0m     \u001b[1;32mfinally\u001b[0m\u001b[1;33m:\u001b[0m\u001b[1;33m\u001b[0m\u001b[1;33m\u001b[0m\u001b[0m\n\u001b[0;32m    873\u001b[0m       \u001b[1;31m# At this point we know that the initialization is complete (or less\u001b[0m\u001b[1;33m\u001b[0m\u001b[1;33m\u001b[0m\u001b[1;33m\u001b[0m\u001b[0m\n",
      "\u001b[1;32mc:\\users\\shrav\\appdata\\local\\programs\\python\\python38\\lib\\site-packages\\tensorflow\\python\\eager\\def_function.py\u001b[0m in \u001b[0;36m_initialize\u001b[1;34m(self, args, kwds, add_initializers_to)\u001b[0m\n\u001b[0;32m    723\u001b[0m     \u001b[0mself\u001b[0m\u001b[1;33m.\u001b[0m\u001b[0m_graph_deleter\u001b[0m \u001b[1;33m=\u001b[0m \u001b[0mFunctionDeleter\u001b[0m\u001b[1;33m(\u001b[0m\u001b[0mself\u001b[0m\u001b[1;33m.\u001b[0m\u001b[0m_lifted_initializer_graph\u001b[0m\u001b[1;33m)\u001b[0m\u001b[1;33m\u001b[0m\u001b[1;33m\u001b[0m\u001b[0m\n\u001b[0;32m    724\u001b[0m     self._concrete_stateful_fn = (\n\u001b[1;32m--> 725\u001b[1;33m         self._stateful_fn._get_concrete_function_internal_garbage_collected(  # pylint: disable=protected-access\n\u001b[0m\u001b[0;32m    726\u001b[0m             *args, **kwds))\n\u001b[0;32m    727\u001b[0m \u001b[1;33m\u001b[0m\u001b[0m\n",
      "\u001b[1;32mc:\\users\\shrav\\appdata\\local\\programs\\python\\python38\\lib\\site-packages\\tensorflow\\python\\eager\\function.py\u001b[0m in \u001b[0;36m_get_concrete_function_internal_garbage_collected\u001b[1;34m(self, *args, **kwargs)\u001b[0m\n\u001b[0;32m   2967\u001b[0m       \u001b[0margs\u001b[0m\u001b[1;33m,\u001b[0m \u001b[0mkwargs\u001b[0m \u001b[1;33m=\u001b[0m \u001b[1;32mNone\u001b[0m\u001b[1;33m,\u001b[0m \u001b[1;32mNone\u001b[0m\u001b[1;33m\u001b[0m\u001b[1;33m\u001b[0m\u001b[0m\n\u001b[0;32m   2968\u001b[0m     \u001b[1;32mwith\u001b[0m \u001b[0mself\u001b[0m\u001b[1;33m.\u001b[0m\u001b[0m_lock\u001b[0m\u001b[1;33m:\u001b[0m\u001b[1;33m\u001b[0m\u001b[1;33m\u001b[0m\u001b[0m\n\u001b[1;32m-> 2969\u001b[1;33m       \u001b[0mgraph_function\u001b[0m\u001b[1;33m,\u001b[0m \u001b[0m_\u001b[0m \u001b[1;33m=\u001b[0m \u001b[0mself\u001b[0m\u001b[1;33m.\u001b[0m\u001b[0m_maybe_define_function\u001b[0m\u001b[1;33m(\u001b[0m\u001b[0margs\u001b[0m\u001b[1;33m,\u001b[0m \u001b[0mkwargs\u001b[0m\u001b[1;33m)\u001b[0m\u001b[1;33m\u001b[0m\u001b[1;33m\u001b[0m\u001b[0m\n\u001b[0m\u001b[0;32m   2970\u001b[0m     \u001b[1;32mreturn\u001b[0m \u001b[0mgraph_function\u001b[0m\u001b[1;33m\u001b[0m\u001b[1;33m\u001b[0m\u001b[0m\n\u001b[0;32m   2971\u001b[0m \u001b[1;33m\u001b[0m\u001b[0m\n",
      "\u001b[1;32mc:\\users\\shrav\\appdata\\local\\programs\\python\\python38\\lib\\site-packages\\tensorflow\\python\\eager\\function.py\u001b[0m in \u001b[0;36m_maybe_define_function\u001b[1;34m(self, args, kwargs)\u001b[0m\n\u001b[0;32m   3359\u001b[0m \u001b[1;33m\u001b[0m\u001b[0m\n\u001b[0;32m   3360\u001b[0m           \u001b[0mself\u001b[0m\u001b[1;33m.\u001b[0m\u001b[0m_function_cache\u001b[0m\u001b[1;33m.\u001b[0m\u001b[0mmissed\u001b[0m\u001b[1;33m.\u001b[0m\u001b[0madd\u001b[0m\u001b[1;33m(\u001b[0m\u001b[0mcall_context_key\u001b[0m\u001b[1;33m)\u001b[0m\u001b[1;33m\u001b[0m\u001b[1;33m\u001b[0m\u001b[0m\n\u001b[1;32m-> 3361\u001b[1;33m           \u001b[0mgraph_function\u001b[0m \u001b[1;33m=\u001b[0m \u001b[0mself\u001b[0m\u001b[1;33m.\u001b[0m\u001b[0m_create_graph_function\u001b[0m\u001b[1;33m(\u001b[0m\u001b[0margs\u001b[0m\u001b[1;33m,\u001b[0m \u001b[0mkwargs\u001b[0m\u001b[1;33m)\u001b[0m\u001b[1;33m\u001b[0m\u001b[1;33m\u001b[0m\u001b[0m\n\u001b[0m\u001b[0;32m   3362\u001b[0m           \u001b[0mself\u001b[0m\u001b[1;33m.\u001b[0m\u001b[0m_function_cache\u001b[0m\u001b[1;33m.\u001b[0m\u001b[0mprimary\u001b[0m\u001b[1;33m[\u001b[0m\u001b[0mcache_key\u001b[0m\u001b[1;33m]\u001b[0m \u001b[1;33m=\u001b[0m \u001b[0mgraph_function\u001b[0m\u001b[1;33m\u001b[0m\u001b[1;33m\u001b[0m\u001b[0m\n\u001b[0;32m   3363\u001b[0m \u001b[1;33m\u001b[0m\u001b[0m\n",
      "\u001b[1;32mc:\\users\\shrav\\appdata\\local\\programs\\python\\python38\\lib\\site-packages\\tensorflow\\python\\eager\\function.py\u001b[0m in \u001b[0;36m_create_graph_function\u001b[1;34m(self, args, kwargs, override_flat_arg_shapes)\u001b[0m\n\u001b[0;32m   3194\u001b[0m     \u001b[0marg_names\u001b[0m \u001b[1;33m=\u001b[0m \u001b[0mbase_arg_names\u001b[0m \u001b[1;33m+\u001b[0m \u001b[0mmissing_arg_names\u001b[0m\u001b[1;33m\u001b[0m\u001b[1;33m\u001b[0m\u001b[0m\n\u001b[0;32m   3195\u001b[0m     graph_function = ConcreteFunction(\n\u001b[1;32m-> 3196\u001b[1;33m         func_graph_module.func_graph_from_py_func(\n\u001b[0m\u001b[0;32m   3197\u001b[0m             \u001b[0mself\u001b[0m\u001b[1;33m.\u001b[0m\u001b[0m_name\u001b[0m\u001b[1;33m,\u001b[0m\u001b[1;33m\u001b[0m\u001b[1;33m\u001b[0m\u001b[0m\n\u001b[0;32m   3198\u001b[0m             \u001b[0mself\u001b[0m\u001b[1;33m.\u001b[0m\u001b[0m_python_function\u001b[0m\u001b[1;33m,\u001b[0m\u001b[1;33m\u001b[0m\u001b[1;33m\u001b[0m\u001b[0m\n",
      "\u001b[1;32mc:\\users\\shrav\\appdata\\local\\programs\\python\\python38\\lib\\site-packages\\tensorflow\\python\\framework\\func_graph.py\u001b[0m in \u001b[0;36mfunc_graph_from_py_func\u001b[1;34m(name, python_func, args, kwargs, signature, func_graph, autograph, autograph_options, add_control_dependencies, arg_names, op_return_value, collections, capture_by_value, override_flat_arg_shapes)\u001b[0m\n\u001b[0;32m    988\u001b[0m         \u001b[0m_\u001b[0m\u001b[1;33m,\u001b[0m \u001b[0moriginal_func\u001b[0m \u001b[1;33m=\u001b[0m \u001b[0mtf_decorator\u001b[0m\u001b[1;33m.\u001b[0m\u001b[0munwrap\u001b[0m\u001b[1;33m(\u001b[0m\u001b[0mpython_func\u001b[0m\u001b[1;33m)\u001b[0m\u001b[1;33m\u001b[0m\u001b[1;33m\u001b[0m\u001b[0m\n\u001b[0;32m    989\u001b[0m \u001b[1;33m\u001b[0m\u001b[0m\n\u001b[1;32m--> 990\u001b[1;33m       \u001b[0mfunc_outputs\u001b[0m \u001b[1;33m=\u001b[0m \u001b[0mpython_func\u001b[0m\u001b[1;33m(\u001b[0m\u001b[1;33m*\u001b[0m\u001b[0mfunc_args\u001b[0m\u001b[1;33m,\u001b[0m \u001b[1;33m**\u001b[0m\u001b[0mfunc_kwargs\u001b[0m\u001b[1;33m)\u001b[0m\u001b[1;33m\u001b[0m\u001b[1;33m\u001b[0m\u001b[0m\n\u001b[0m\u001b[0;32m    991\u001b[0m \u001b[1;33m\u001b[0m\u001b[0m\n\u001b[0;32m    992\u001b[0m       \u001b[1;31m# invariant: `func_outputs` contains only Tensors, CompositeTensors,\u001b[0m\u001b[1;33m\u001b[0m\u001b[1;33m\u001b[0m\u001b[1;33m\u001b[0m\u001b[0m\n",
      "\u001b[1;32mc:\\users\\shrav\\appdata\\local\\programs\\python\\python38\\lib\\site-packages\\tensorflow\\python\\eager\\def_function.py\u001b[0m in \u001b[0;36mwrapped_fn\u001b[1;34m(*args, **kwds)\u001b[0m\n\u001b[0;32m    632\u001b[0m             \u001b[0mxla_context\u001b[0m\u001b[1;33m.\u001b[0m\u001b[0mExit\u001b[0m\u001b[1;33m(\u001b[0m\u001b[1;33m)\u001b[0m\u001b[1;33m\u001b[0m\u001b[1;33m\u001b[0m\u001b[0m\n\u001b[0;32m    633\u001b[0m         \u001b[1;32melse\u001b[0m\u001b[1;33m:\u001b[0m\u001b[1;33m\u001b[0m\u001b[1;33m\u001b[0m\u001b[0m\n\u001b[1;32m--> 634\u001b[1;33m           \u001b[0mout\u001b[0m \u001b[1;33m=\u001b[0m \u001b[0mweak_wrapped_fn\u001b[0m\u001b[1;33m(\u001b[0m\u001b[1;33m)\u001b[0m\u001b[1;33m.\u001b[0m\u001b[0m__wrapped__\u001b[0m\u001b[1;33m(\u001b[0m\u001b[1;33m*\u001b[0m\u001b[0margs\u001b[0m\u001b[1;33m,\u001b[0m \u001b[1;33m**\u001b[0m\u001b[0mkwds\u001b[0m\u001b[1;33m)\u001b[0m\u001b[1;33m\u001b[0m\u001b[1;33m\u001b[0m\u001b[0m\n\u001b[0m\u001b[0;32m    635\u001b[0m         \u001b[1;32mreturn\u001b[0m \u001b[0mout\u001b[0m\u001b[1;33m\u001b[0m\u001b[1;33m\u001b[0m\u001b[0m\n\u001b[0;32m    636\u001b[0m \u001b[1;33m\u001b[0m\u001b[0m\n",
      "\u001b[1;32mc:\\users\\shrav\\appdata\\local\\programs\\python\\python38\\lib\\site-packages\\tensorflow\\python\\framework\\func_graph.py\u001b[0m in \u001b[0;36mwrapper\u001b[1;34m(*args, **kwargs)\u001b[0m\n\u001b[0;32m    975\u001b[0m           \u001b[1;32mexcept\u001b[0m \u001b[0mException\u001b[0m \u001b[1;32mas\u001b[0m \u001b[0me\u001b[0m\u001b[1;33m:\u001b[0m  \u001b[1;31m# pylint:disable=broad-except\u001b[0m\u001b[1;33m\u001b[0m\u001b[1;33m\u001b[0m\u001b[0m\n\u001b[0;32m    976\u001b[0m             \u001b[1;32mif\u001b[0m \u001b[0mhasattr\u001b[0m\u001b[1;33m(\u001b[0m\u001b[0me\u001b[0m\u001b[1;33m,\u001b[0m \u001b[1;34m\"ag_error_metadata\"\u001b[0m\u001b[1;33m)\u001b[0m\u001b[1;33m:\u001b[0m\u001b[1;33m\u001b[0m\u001b[1;33m\u001b[0m\u001b[0m\n\u001b[1;32m--> 977\u001b[1;33m               \u001b[1;32mraise\u001b[0m \u001b[0me\u001b[0m\u001b[1;33m.\u001b[0m\u001b[0mag_error_metadata\u001b[0m\u001b[1;33m.\u001b[0m\u001b[0mto_exception\u001b[0m\u001b[1;33m(\u001b[0m\u001b[0me\u001b[0m\u001b[1;33m)\u001b[0m\u001b[1;33m\u001b[0m\u001b[1;33m\u001b[0m\u001b[0m\n\u001b[0m\u001b[0;32m    978\u001b[0m             \u001b[1;32melse\u001b[0m\u001b[1;33m:\u001b[0m\u001b[1;33m\u001b[0m\u001b[1;33m\u001b[0m\u001b[0m\n\u001b[0;32m    979\u001b[0m               \u001b[1;32mraise\u001b[0m\u001b[1;33m\u001b[0m\u001b[1;33m\u001b[0m\u001b[0m\n",
      "\u001b[1;31mValueError\u001b[0m: in user code:\n\n    c:\\users\\shrav\\appdata\\local\\programs\\python\\python38\\lib\\site-packages\\tensorflow\\python\\keras\\engine\\training.py:1478 predict_function  *\n        return step_function(self, iterator)\n    c:\\users\\shrav\\appdata\\local\\programs\\python\\python38\\lib\\site-packages\\tensorflow\\python\\keras\\engine\\training.py:1468 step_function  **\n        outputs = model.distribute_strategy.run(run_step, args=(data,))\n    c:\\users\\shrav\\appdata\\local\\programs\\python\\python38\\lib\\site-packages\\tensorflow\\python\\distribute\\distribute_lib.py:1259 run\n        return self._extended.call_for_each_replica(fn, args=args, kwargs=kwargs)\n    c:\\users\\shrav\\appdata\\local\\programs\\python\\python38\\lib\\site-packages\\tensorflow\\python\\distribute\\distribute_lib.py:2730 call_for_each_replica\n        return self._call_for_each_replica(fn, args, kwargs)\n    c:\\users\\shrav\\appdata\\local\\programs\\python\\python38\\lib\\site-packages\\tensorflow\\python\\distribute\\distribute_lib.py:3417 _call_for_each_replica\n        return fn(*args, **kwargs)\n    c:\\users\\shrav\\appdata\\local\\programs\\python\\python38\\lib\\site-packages\\tensorflow\\python\\keras\\engine\\training.py:1461 run_step  **\n        outputs = model.predict_step(data)\n    c:\\users\\shrav\\appdata\\local\\programs\\python\\python38\\lib\\site-packages\\tensorflow\\python\\keras\\engine\\training.py:1434 predict_step\n        return self(x, training=False)\n    c:\\users\\shrav\\appdata\\local\\programs\\python\\python38\\lib\\site-packages\\tensorflow\\python\\keras\\engine\\base_layer.py:998 __call__\n        input_spec.assert_input_compatibility(self.input_spec, inputs, self.name)\n    c:\\users\\shrav\\appdata\\local\\programs\\python\\python38\\lib\\site-packages\\tensorflow\\python\\keras\\engine\\input_spec.py:271 assert_input_compatibility\n        raise ValueError('Input ' + str(input_index) +\n\n    ValueError: Input 0 is incompatible with layer sequential_2: expected shape=(None, None, 5), found shape=(None, 1, 9)\n"
     ]
    }
   ],
   "source": [
    "import sys\n",
    "data=model.predict(np.array([float(28),float(12),float(29.33),float(0.0),float(136.8),float(0.5),float(0.333333333333),float(0.25),float(0.333333333333)]).reshape(1, 1, 9))"
   ]
  },
  {
   "cell_type": "code",
   "execution_count": null,
   "metadata": {
    "execution": {
     "iopub.execute_input": "2021-02-26T09:51:05.082265Z",
     "iopub.status.busy": "2021-02-26T09:51:05.076494Z",
     "iopub.status.idle": "2021-02-26T09:51:05.089383Z",
     "shell.execute_reply": "2021-02-26T09:51:05.090108Z"
    },
    "id": "G70exIKC9Am0",
    "papermill": {
     "duration": 0.268462,
     "end_time": "2021-02-26T09:51:05.090355",
     "exception": false,
     "start_time": "2021-02-26T09:51:04.821893",
     "status": "completed"
    },
    "tags": []
   },
   "outputs": [],
   "source": [
    "data"
   ]
  },
  {
   "cell_type": "code",
   "execution_count": null,
   "metadata": {},
   "outputs": [],
   "source": []
  }
 ],
 "metadata": {
  "colab": {
   "name": "Copy of kurla-region.ipynb",
   "provenance": []
  },
  "kernelspec": {
   "display_name": "Python 3",
   "language": "python",
   "name": "python3"
  },
  "language_info": {
   "codemirror_mode": {
    "name": "ipython",
    "version": 3
   },
   "file_extension": ".py",
   "mimetype": "text/x-python",
   "name": "python",
   "nbconvert_exporter": "python",
   "pygments_lexer": "ipython3",
   "version": "3.8.8"
  }
 },
 "nbformat": 4,
 "nbformat_minor": 1
}
